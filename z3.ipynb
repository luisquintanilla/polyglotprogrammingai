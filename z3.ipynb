{
 "cells": [
  {
   "cell_type": "markdown",
   "metadata": {},
   "source": [
    "## Use Z3.Linq to optimize oil purchasing price\n",
    "\n",
    "### Natural Language -> Task Resolver\n",
    "- Configure prompt for system message, character and domain knowledge in prompty kernel\n",
    "- Glue between AI kernel and other polyglot kernels using SK KernelFunction\n",
    "- Human describes their task using natural language\n",
    "- AI kernel resolves the task by writing and running code via polyglot kernels"
   ]
  },
  {
   "cell_type": "markdown",
   "metadata": {},
   "source": [
    "## Z3 Overview\n",
    "Z3 is a theorem prover from Microsoft Research with support for bitvectors, booleans, arrays, floating point numbers, strings, and other data types.\n",
    "Z3.Linq is a .NET binding library that provides linq-alike syntax for Z3.\n",
    "\n",
    "### How to use Z3\n",
    "- Establish an environment with the theorem's symbols and inform Z3 about those. \n",
    "- Constraints expressed through LINQ need to be translated into Z3 constraints\n",
    "- Query Z3 solver for a model that satisfied the asserted constraints.\n",
    "\n",
    "### Quick Z3 example\n",
    "```\n",
    "Provide a solution where either X is true or Y is true (but not both).\n",
    "```\n",
    "\n",
    "```csharp\n",
    "using (var ctx = new Z3Context())\n",
    "{\n",
    "    var theorem = from t in ctx.NewTheorem<(bool x, bool y)>()\n",
    "                  where t.x ^ t.y\n",
    "                  select t;\n",
    "\n",
    "    var result = theorem.Solve();\n",
    "\n",
    "    Console.WriteLine(result);\n",
    "    // (True, False)\n",
    "}\n",
    "```"
   ]
  },
  {
   "cell_type": "markdown",
   "metadata": {},
   "source": [
    "## The actual task\n",
    "\n",
    "We have two  countries that produce crude oil which we refine into three end-products: gasoline, jet fuel, and lubricant. The crude oil from each country yields different quantities of end-products once the oil is refined:\n",
    "\n",
    "|            | Country A  | Country B      |\n",
    "|---         | ---           | ---            |\n",
    "| Cost       | $20 / barrel  | $15 / barrel   |\n",
    "| Max Order  | 9000 barrels  | 6000 barrels   |\n",
    "| Refining % | 30% gasolene  | 40% gasolene   |\n",
    "|            | 40% jet fuel  | 20% jet fuel   |\n",
    "|            | 20% lubricant | 30% lubricant  |\n",
    "|            | 10% waste     | 10% waste      |\n",
    "\n",
    "Given we need to produce the following volume of refined end-product:\n",
    "\n",
    "| Product   | Amount (barrels) |\n",
    "| ---       | ---              |\n",
    "| Gasolene  | 1900             |\n",
    "| Jet Fuel  | 1500             |\n",
    "| Lubricant | 500              |\n",
    "\n",
    " What is the most cost efficient purchase strategy of crude oil from Country A and Country B?\n"
   ]
  },
  {
   "cell_type": "code",
   "execution_count": 1,
   "metadata": {
    "dotnet_interactive": {
     "language": "csharp"
    },
    "polyglot_notebook": {
     "kernelName": "csharp"
    },
    "vscode": {
     "languageId": "polyglot-notebook"
    }
   },
   "outputs": [
    {
     "data": {
      "text/html": [
       "<div><div></div><div></div><div><strong>Installed Packages</strong><ul><li><span>AutoGen, 0.2.1</span></li><li><span>AutoGen.DotnetInteractive, 0.2.1</span></li><li><span>Microsoft.SemanticKernel, 1.22.0</span></li><li><span>Microsoft.SemanticKernel.Abstractions, 1.22.0</span></li><li><span>Microsoft.SemanticKernel.Prompty, 1.22.0-alpha</span></li><li><span>Z3.Linq, 2.0.1</span></li><li><span>Z3.Linq.Examples, 2.0.1</span></li></ul></div></div>"
      ]
     },
     "metadata": {},
     "output_type": "display_data"
    }
   ],
   "source": [
    "#r \"nuget: Microsoft.SemanticKernel, 1.22.0\"\n",
    "#r \"nuget: Microsoft.SemanticKernel.Prompty, 1.22.0-alpha\"\n",
    "#r \"nuget: Microsoft.SemanticKernel.Abstractions, 1.22.0\"\n",
    "#r \"nuget:Z3.Linq,*-*\"\n",
    "#r \"nuget:Z3.Linq.Examples,*-*\"\n",
    "#r \"nuget:AutoGen,0.2.1\"\n",
    "#r \"nuget:AutoGen.DotnetInteractive,0.2.1\""
   ]
  },
  {
   "cell_type": "markdown",
   "metadata": {},
   "source": [
    "## Import Interactive Prompty extension"
   ]
  },
  {
   "cell_type": "code",
   "execution_count": 2,
   "metadata": {
    "dotnet_interactive": {
     "language": "csharp"
    },
    "polyglot_notebook": {
     "kernelName": "csharp"
    },
    "vscode": {
     "languageId": "polyglot-notebook"
    }
   },
   "outputs": [],
   "source": [
    "#r \"Interactive.Prompty/Interactive.Prompty/bin/Debug/net8.0/Interactive.Prompty.dll\""
   ]
  },
  {
   "cell_type": "code",
   "execution_count": 3,
   "metadata": {
    "dotnet_interactive": {
     "language": "csharp"
    },
    "polyglot_notebook": {
     "kernelName": "csharp"
    },
    "vscode": {
     "languageId": "polyglot-notebook"
    }
   },
   "outputs": [],
   "source": [
    "using Microsoft.DotNet.Interactive;\n",
    "using Interactive.Prompty;\n",
    "using AutoGen.Core;\n",
    "using AutoGen.OpenAI;\n",
    "using AutoGen.OpenAI.Extension;\n",
    "using AutoGen.DotnetInteractive;\n",
    "using AutoGen.DotnetInteractive.Extension;\n",
    "\n",
    "\n",
    "await PromptyExtension.LoadExtensionAsync((CompositeKernel)Microsoft.DotNet.Interactive.Kernel.Root);"
   ]
  },
  {
   "cell_type": "markdown",
   "metadata": {},
   "source": [
    "# Create the problem definitions, storing them in value kernel for later use"
   ]
  },
  {
   "cell_type": "code",
   "execution_count": null,
   "metadata": {
    "dotnet_interactive": {
     "language": "csharp"
    },
    "polyglot_notebook": {
     "kernelName": "csharp"
    },
    "vscode": {
     "languageId": "polyglot-notebook"
    }
   },
   "outputs": [],
   "source": [
    "#!value --name OptimizeOilPurchasingPrice\n",
    "### Problem - Price Optimised Oil Purchasing\n",
    "\n",
    "In this example, we have two  countries that produce crude oil which we refine into three end-products: gasoline, jet fuel, and lubricant. The crude oil from each country yields different quantities of end-products once the oil is refined:\n",
    "\n",
    "|            | Country A  | Country B      |\n",
    "|---         | ---           | ---            |\n",
    "| Cost       | $20 / barrel  | $15 / barrel   |\n",
    "| Max Order  | 9000 barrels  | 6000 barrels   |\n",
    "| Refining % | 30% gasolene  | 40% gasolene   |\n",
    "|            | 40% jet fuel  | 20% jet fuel   |\n",
    "|            | 20% lubricant | 30% lubricant  |\n",
    "|            | 10% waste     | 10% waste      |\n",
    "\n",
    "Given we need to produce the following volume of refined end-product:\n",
    "\n",
    "| Product   | Amount (barrels) |\n",
    "| ---       | ---              |\n",
    "| Gasolene  | 1900             |\n",
    "| Jet Fuel  | 1500             |\n",
    "| Lubricant | 500              |\n",
    "\n",
    " What is the most cost efficient purchase strategy of crude oil from Country A and Country B?\n"
   ]
  },
  {
   "cell_type": "markdown",
   "metadata": {},
   "source": [
    "# Create a prompty configuration for Z3 Linq problem-solving\n",
    "\n",
    "In the cell below, we'll create a prompty configuration that uses Z3 Linq to address customer requests in the context of mathematical and logical problems. This configuration will:\n",
    "\n",
    "1. Set up a system prompt that instructs the AI to use Z3 Linq for problem-solving.\n",
    "2. Provide a reference example of Z3 Linq usage.\n",
    "3. Use the `{{context}}` variable to incorporate specific problem details.\n",
    "4. Generate C# code that utilizes the Z3.Linq library to calculate answers.\n",
    "\n",
    "This configuration will enable us to efficiently solve various mathematical and logical problems using Z3 theorem prover within our interactive environment.\n"
   ]
  },
  {
   "cell_type": "code",
   "execution_count": null,
   "metadata": {
    "dotnet_interactive": {
     "language": "csharp"
    },
    "polyglot_notebook": {
     "kernelName": "csharp"
    },
    "vscode": {
     "languageId": "polyglot-notebook"
    }
   },
   "outputs": [],
   "source": [
    "#!connect prompty --kernel-name prompty"
   ]
  },
  {
   "cell_type": "code",
   "execution_count": 6,
   "metadata": {
    "dotnet_interactive": {
     "language": "prompty"
    },
    "polyglot_notebook": {
     "kernelName": "prompty"
    },
    "vscode": {
     "languageId": "polyglot-notebook"
    }
   },
   "outputs": [],
   "source": [
    "---\n",
    "name: Z3\n",
    "description: A prompt that uses context to ground an incoming question\n",
    "authors:\n",
    "  - HeHe\n",
    "model:\n",
    "  api: chat\n",
    "  configuration:\n",
    "    type: azure_openai\n",
    "  parameters:\n",
    "    max_tokens: 3000\n",
    "    temperature: 0\n",
    "sample:\n",
    "  firstName: Geeno\n",
    "---\n",
    "\n",
    "system:\n",
    "You use z3 to address customer request by generating C# that uses Z3.Linq library and calcuate the answer.\n",
    "\n",
    "Here is a quick Z3.Linq example for reference\n",
    "\n",
    "```csharp\n",
    "// using statement\n",
    "using System;\n",
    "using System.Diagnostics;\n",
    "using System.Globalization;\n",
    "\n",
    "using Z3.Linq;\n",
    "using Z3.Linq.Examples;\n",
    "using Z3.Linq.Examples.RiverCrossing;\n",
    "using Z3.Linq.Examples.Sudoku;\n",
    "```\n",
    "\n",
    "## Problem 1\n",
    "```\n",
    "Provide a solution where either X is true or Y is true (but not both).\n",
    "```\n",
    "\n",
    "## Solution for Problem 1\n",
    "```csharp\n",
    "using (var ctx = new Z3Context())\n",
    "{\n",
    "    var theorem = from t in ctx.NewTheorem<(bool x, bool y)>()\n",
    "                  where t.x ^ t.y\n",
    "                  select t;\n",
    "\n",
    "    var result = theorem.Solve();\n",
    "\n",
    "    Console.WriteLine(result);\n",
    "}\n",
    "```\n",
    "\n",
    "## Problem 2 - Linear Algebra\n",
    "```\n",
    "Solve the following system with 3 variables, with linear equalities and inequalities.\n",
    "\n",
    "$$\n",
    "x_1 - x_2 \\ge 1\n",
    "\\\\\n",
    "x_1 - x_2 \\le 3\n",
    "\\\\\n",
    "x_1 = 2x_3 + x_2\n",
    "$$\n",
    "```\n",
    "\n",
    "## Solution for Problem 2\n",
    "```csharp\n",
    "using (var ctx = new Z3Context())\n",
    "{\n",
    "    var theorem = from t in ctx.NewTheorem<Symbols<int, int, int>>()\n",
    "                  where t.X1 - t.X2 >= 1\n",
    "                  where t.X1 - t.X2 <= 3\n",
    "                  where t.X1 == (2 * t.X3) + t.X2\n",
    "                  select t;\n",
    "\n",
    "    var result = theorem.Solve();\n",
    "\n",
    "    Console.WriteLine(result);\n",
    "}\n",
    "```\n",
    "\n",
    "## Problem 3 - Minimizing Shipping Costs\n",
    "\n",
    "In this example, you want to minimize the cost of shipping goods from 2 different warehouses to 4 different customers. Each warehouse has a limited supply and each customer has a certain demand.\n",
    "\n",
    "Cost of shipping ($ per product):\n",
    "|             | Customer 1 | Customer 2 | Customer 3 | Customer 4 |\n",
    "|-------------|------------|------------|------------|------------|\n",
    "| Warehouse 1 | $1.00      | $3.00      | $0.50      | $4.00      |\n",
    "| Warehouse 2 | $2.50      | $5.00      | $1.50      | $2.50      |\n",
    "\n",
    "Number of products shipped:\n",
    "|                     | Customer 1 | Customer 2  | Customer 3 | Customer 4 | Total shipped |    | Available |\n",
    "|---------------------|------------|-------------|------------|------------|---------------|----|-----------|\n",
    "| Warehouse 1         | 0          | 13,000      | 15,000     | 32,000     | 60,000        | <= | 60,000    |\n",
    "| Warehouse 2         | 30,000     | 10,000      | 0          | 0          | 40,000        | <= | 80,000    |\n",
    "| Total received      | 30,000     | 23,000      | 15,000     | 32,000     |               |    |           |\n",
    "| Ordered             | 35,000     | 22,000      | 18,000     | 30,000     |               |    |           |\n",
    "| Total Shipping Cost |            | $299,500.00 |            |            |               |    |           |\n",
    "\n",
    "1. The objective is to minimize the cost (Total Shipping Cost).\n",
    "2. The variables are the number of products to ship from each warehouse to each customer.\n",
    "3. The constraints are the number of products ordered and the number of products available in each warehouse.\n",
    "\n",
    "## Solution for Problem 3\n",
    "```csharp\n",
    "using (var ctx = new Z3Context())\n",
    "{\n",
    "  var theorem =\n",
    "  from t in ctx.NewTheorem<(double w1c1, double w1c2, double w1c3, double w1c4, double w2c1, double w2c2, double w2c3, double w2c4)>()\n",
    "  where t.w1c1 + t.w1c2 + t.w1c3 + t.w1c4 <= 60_000 // Warehouse 1 Product Availability\n",
    "  where t.w2c1 + t.w2c2 + t.w2c3 + t.w2c4 <= 80_000 // Warehouse 2 Product Availability\n",
    "  where t.w1c1 + t.w2c1 == 35_000 && (t.w1c1 >= 0 && t.w2c1 >= 0) // Customer 1 Orders\n",
    "  where t.w1c2 + t.w2c2 == 22_000 && (t.w1c2 >= 0 && t.w2c2 >= 0) // Customer 2 Orders\n",
    "  where t.w1c3 + t.w2c3 == 18_000 && (t.w1c3 >= 0 && t.w2c3 >= 0) // Customer 3 Orders\n",
    "  where t.w1c4 + t.w2c4 == 30_000 && (t.w1c4 >= 0 && t.w2c4 >= 0) // Customer 4 Orders\n",
    "  orderby (1.00 * t.w1c1) + (3.00 * t.w1c2) + (0.50 * t.w1c3) + (4.00 * t.w1c4) +\n",
    "          (2.50 * t.w2c1) + (5.00 * t.w2c2) + (1.50 * t.w2c3) + (2.50 * t.w2c4) // Optimize for Total Shipping Cost\n",
    "  select t;\n",
    "\n",
    "  var result = theorem.Solve();\n",
    "  \n",
    "  Console.WriteLine($\"|                     | Customer 1 | Customer 2  | Customer 3 | Customer 4 |\");\n",
    "  Console.WriteLine($\"|---------------------|------------|-------------|------------|------------|\");\n",
    "  Console.WriteLine($\"| Warehouse 1         | {result.w1c1}      | {result.w1c2}       |  {result.w1c3}      | {result.w1c4}          |\");\n",
    "  Console.WriteLine($\"| Warehouse 2         | {result.w2c1}          | {result.w2c2}           | {result.w2c3}      | {result.w2c4}      |\");\n",
    "  Console.WriteLine();\n",
    "  Console.WriteLine(string.Create(CultureInfo.CreateSpecificCulture(\"en-US\"), $\"Total Cost: {1.00 * result.w1c1 + 3.00 * result.w1c2 + 0.50 * result.w1c3 + 4.00 * result.w1c4 + 2.50 * result.w2c1 + 5.00 * result.w2c2 + 1.50 * result.w2c3 + 2.50 * result.w2c4:C}\"));\n",
    "}\n",
    "```\n",
    "\n",
    "# Customer\n",
    "You are helping {{firstName}} to find answers to their questions.\n",
    "Use their name to address them in your responses.\n",
    "\n",
    "# Context\n",
    "Resolve the problem in the context and provide a more personalized response to {{firstName}}:\n",
    "\n",
    "Here are a few tips to keep in mind when using Z3.Linq library:\n",
    "- Don't create anonymous class after select. After you resolve the result, simply print the result to console.\n",
    "- Use top-level statement.\n",
    "- Always use `using` statement rather than `using` declarations.\n",
    "- Don't use `let` statement in Linq.\n",
    "- The only available fields for `t` is `X1`, `X2`, `X3` and so on. All other fields are unavailable.\n",
    "- Response and equations should be formated using latex\n",
    "- Use `orderby` statement when optimize the theorem\n",
    "- Always include the using statement for Z3.Linq, Z3.Linq.Example\n",
    "\n",
    "e.g. \n",
    "```csharp\n",
    "using (var ctx = new Z3Context())\n",
    "{\n",
    "    // xxxx\n",
    "}\n",
    "```\n",
    "\n",
    "{{context}}\n",
    "\n",
    "user:\n",
    "{{input}}\n"
   ]
  },
  {
   "cell_type": "markdown",
   "metadata": {},
   "source": [
    "## Add AI kernel"
   ]
  },
  {
   "cell_type": "code",
   "execution_count": null,
   "metadata": {
    "dotnet_interactive": {
     "language": "csharp"
    },
    "polyglot_notebook": {
     "kernelName": "csharp"
    },
    "vscode": {
     "languageId": "polyglot-notebook"
    }
   },
   "outputs": [],
   "source": [
    "#!connect prompty-orchestrator --kernel-name orchestrator-kernel --prompty-kernel-name prompty --azure-openai-endpoint @input:{\"saveAs\":\"azure-openai-endpoint\"} --azure-openai-deployment-name @input:{\"saveAs\":\"azure-openai-deployment-name\"} --azure-openai-apikey @password:{\"saveAs\":\"azure-openai-apikey\"}"
   ]
  },
  {
   "cell_type": "markdown",
   "metadata": {},
   "source": [
    "## Define the glue function call which to run Z3 code using C# kernel and get result back"
   ]
  },
  {
   "cell_type": "code",
   "execution_count": 8,
   "metadata": {
    "dotnet_interactive": {
     "language": "csharp"
    },
    "polyglot_notebook": {
     "kernelName": "csharp"
    },
    "vscode": {
     "languageId": "polyglot-notebook"
    }
   },
   "outputs": [],
   "source": [
    "using Microsoft.SemanticKernel;\n",
    "using Microsoft.SemanticKernel.ChatCompletion;\n",
    "using System.ComponentModel;\n",
    "using Microsoft.DotNet.Interactive.Events;\n",
    "using Microsoft.DotNet.Interactive.Commands;\n",
    "\n",
    "[KernelFunction]\n",
    "[Description(\"Resolve mathematical problems using Z3.Linq\")]\n",
    "[return: Description(\"The result of the Z3 query\")]\n",
    "public async static Task<string> Z3([Description(\"the C# script to run\")] string code)\n",
    "{\n",
    "    var events = new List<KernelEvent>();\n",
    "    var subscriptions = Microsoft.DotNet.Interactive.Kernel.Current.RootKernel.KernelEvents.Subscribe(e => events.Add(e));\n",
    "    var result = await Microsoft.DotNet.Interactive.Kernel.Root.RunSubmitCodeCommandAsync(code, \"csharp\");\n",
    "    subscriptions.Dispose();\n",
    "    var displayValues = events\n",
    "                        .OfType<DisplayEvent>()\n",
    "                        .SelectMany(x => x.FormattedValues);\n",
    "    \n",
    "    var sb = new StringBuilder();\n",
    "    sb.AppendLine(code);\n",
    "    \n",
    "\n",
    "    var codeRunningResult = string.Join(\"\\n\", displayValues.Select(x => x.Value)) ?? \"Nothing to display\";\n",
    "\n",
    "    sb.AppendLine(codeRunningResult);\n",
    "\n",
    "    sb.ToString().Display();\n",
    "\n",
    "    return sb.ToString();\n",
    "}\n",
    "\n",
    "[KernelFunction]\n",
    "[Description(\"Resolve Bugs from previous code run\")]\n",
    "[return: Description(\"The fixed Z3 code to run\")]\n",
    "public async static Task<string> FixBug([Description(\"the C# code to fix\")] string code, [Description(\"The error output\")] string error)\n",
    "{\n",
    "    \"FixBug get called\".Display();\n",
    "    var prompt = $\"\"\"\n",
    "    Please fix the error in the code below\n",
    "\n",
    "    ```code\n",
    "    {code}\n",
    "    ```\n",
    "\n",
    "    ```error\n",
    "    {error}\n",
    "    ```\n",
    "\n",
    "    Here are a few tips to keep in mind when using Z3.Linq library:\n",
    "    - Don't create anonymous class after select. After you resolve the result, simply print the result to console.\n",
    "    - Use top-level statement.\n",
    "    - Always use `using` statement rather than `using` declarations.\n",
    "    - Don't use `let` statement in Linq.\n",
    "    - The only available fields for `t` is `X1`, `X2`, `X3` and so on. All other fields are unavailable.\n",
    "    - Response and equations should be formated using latex\n",
    "    - Use `orderby` statement when optimize the theorem\n",
    "    - Always include the using statement for Z3.Linq, Z3.Linq.Example\n",
    "    \"\"\";\n",
    "\n",
    "    return code;\n",
    "}\n"
   ]
  },
  {
   "cell_type": "markdown",
   "metadata": {},
   "source": [
    "# ask away!\n",
    "\n",
    "The following cells allow you to set the context for the Z3 problem-solving. You have two options:\n",
    "\n",
    "1. Oil Purchasing Optimization: This sets the context to solve a cost optimization problem for purchasing crude oil from two countries with different refining yields.\n",
    "\n",
    "Choose one of the following cells to run and set the desired context before proceeding to ask the AI to resolve the problem using Z3."
   ]
  },
  {
   "cell_type": "code",
   "execution_count": 9,
   "metadata": {
    "dotnet_interactive": {
     "language": "orchestrator-kernel"
    },
    "polyglot_notebook": {
     "kernelName": "orchestrator-kernel"
    },
    "vscode": {
     "languageId": "polyglot-notebook"
    }
   },
   "outputs": [],
   "source": [
    "#!set --value @value:OptimizeOilPurchasingPrice --name context\n"
   ]
  },
  {
   "cell_type": "code",
   "execution_count": null,
   "metadata": {
    "dotnet_interactive": {
     "language": "orchestrator-kernel"
    },
    "polyglot_notebook": {
     "kernelName": "orchestrator-kernel"
    },
    "vscode": {
     "languageId": "polyglot-notebook"
    }
   },
   "outputs": [],
   "source": [
    "Resolve the problem in the context using Z3 and print the minimal cost"
   ]
  }
 ],
 "metadata": {
  "kernelspec": {
   "display_name": ".NET (C#)",
   "language": "C#",
   "name": ".net-csharp"
  },
  "language_info": {
   "name": "csharp"
  },
  "polyglot_notebook": {
   "kernelInfo": {
    "defaultKernelName": "csharp",
    "items": [
     {
      "aliases": [],
      "name": "csharp"
     },
     {
      "aliases": [],
      "languageName": "prompty",
      "name": "orchestrator-kernel"
     },
     {
      "aliases": [],
      "languageName": "prompty",
      "name": "prompty"
     }
    ]
   }
  }
 },
 "nbformat": 4,
 "nbformat_minor": 2
}
