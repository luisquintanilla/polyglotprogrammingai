{
 "cells": [
  {
   "cell_type": "markdown",
   "metadata": {},
   "source": [
    "## Use Z3.Linq and AutoGen code interpreter to resolve Mathmatic problem\n",
    "\n",
    "### What's Z3\n",
    "Z3 is a theorem prover from Microsoft Research with support for bitvectors, booleans, arrays, floating point numbers, strings, and other data types.\n",
    "\n",
    "### How to use Z3\n",
    "- Define variables\n",
    "- Provides a list of constraints using these variables\n",
    "- Z3 solver finds all combinations of variable values that satisfied all constraints\n",
    "- optimize targets from those combinations\n",
    "\n",
    "### Idea behind\n",
    "- Provide examples in prompty file to teach GPT on how to use Z3.Linq library\n",
    "- Use natural language to define the problem\n",
    "- Use AI kernel to convert problem into constraints and resolve them using Z3.Linq\n",
    "- After having the output from code, use AI kernel to reformat the final answer"
   ]
  },
  {
   "cell_type": "code",
   "execution_count": 1,
   "metadata": {
    "dotnet_interactive": {
     "language": "csharp"
    },
    "polyglot_notebook": {
     "kernelName": "csharp"
    },
    "vscode": {
     "languageId": "polyglot-notebook"
    }
   },
   "outputs": [
    {
     "data": {
      "text/html": [
       "<div><div></div><div></div><div><strong>Installed Packages</strong><ul><li><span>AutoGen, 0.2.1</span></li><li><span>AutoGen.DotnetInteractive, 0.2.1</span></li><li><span>Microsoft.SemanticKernel, 1.22.0</span></li><li><span>Microsoft.SemanticKernel.Abstractions, 1.22.0</span></li><li><span>Microsoft.SemanticKernel.Prompty, 1.22.0-alpha</span></li><li><span>Z3.Linq, 2.0.1</span></li><li><span>Z3.Linq.Examples, 2.0.1</span></li></ul></div></div>"
      ]
     },
     "metadata": {},
     "output_type": "display_data"
    }
   ],
   "source": [
    "#r \"nuget: Microsoft.SemanticKernel, 1.22.0\"\n",
    "#r \"nuget: Microsoft.SemanticKernel.Prompty, 1.22.0-alpha\"\n",
    "#r \"nuget: Microsoft.SemanticKernel.Abstractions, 1.22.0\"\n",
    "#r \"nuget:Z3.Linq,*-*\"\n",
    "#r \"nuget:Z3.Linq.Examples,*-*\"\n",
    "#r \"nuget:AutoGen,0.2.1\"\n",
    "#r \"nuget:AutoGen.DotnetInteractive,0.2.1\""
   ]
  },
  {
   "cell_type": "markdown",
   "metadata": {},
   "source": [
    "## Import Interactive Prompty extension"
   ]
  },
  {
   "cell_type": "code",
   "execution_count": 2,
   "metadata": {
    "dotnet_interactive": {
     "language": "csharp"
    },
    "polyglot_notebook": {
     "kernelName": "csharp"
    },
    "vscode": {
     "languageId": "polyglot-notebook"
    }
   },
   "outputs": [],
   "source": [
    "#r \"Interactive.Prompty/Interactive.Prompty/bin/Debug/net8.0/Interactive.Prompty.dll\""
   ]
  },
  {
   "cell_type": "markdown",
   "metadata": {},
   "source": [
    "# Create the problem definitions, storing them in value kernel for later use"
   ]
  },
  {
   "cell_type": "code",
   "execution_count": 4,
   "metadata": {
    "dotnet_interactive": {
     "language": "csharp"
    },
    "polyglot_notebook": {
     "kernelName": "csharp"
    },
    "vscode": {
     "languageId": "polyglot-notebook"
    }
   },
   "outputs": [
    {
     "data": {
      "text/plain": [
       "### Problem - Price Optimised Oil Purchasing\r\n",
       "\r\n",
       "In this example, we have two  countries that produce crude oil which we refine into three end-products: gasoline, jet fuel, and lubricant. The crude oil from each country yields different quantities of end-products once the oil is refined:\r\n",
       "\r\n",
       "|            | Saudi Arabia  | Venezuela      |\r\n",
       "|---         | ---           | ---            |\r\n",
       "| Cost       | $20 / barrel  | $15 / barrel   |\r\n",
       "| Max Order  | 9000 barrels  | 6000 barrels   |\r\n",
       "| Refining % | 30% gasolene  | 40% gasolene   |\r\n",
       "|            | 40% jet fuel  | 20% jet fuel   |\r\n",
       "|            | 20% lubricant | 30% lubricant  |\r\n",
       "|            | 10% waste     | 10% waste      |\r\n",
       "\r\n",
       "Given we need to produce the following volume of refined end-product:\r\n",
       "\r\n",
       "| Product   | Amount (barrels) |\r\n",
       "| ---       | ---              |\r\n",
       "| Gasolene  | 1900             |\r\n",
       "| Jet Fuel  | 1500             |\r\n",
       "| Lubricant | 500              |\r\n",
       "\r\n",
       " What is the most cost efficient purchase strategy of crude oil from Saudi Arabia and Venezuela?\r\n"
      ]
     },
     "metadata": {},
     "output_type": "display_data"
    }
   ],
   "source": [
    "#!value --name OptimizeOilPurchasingPrice\n",
    "### Problem - Price Optimised Oil Purchasing\n",
    "\n",
    "In this example, we have two  countries that produce crude oil which we refine into three end-products: gasoline, jet fuel, and lubricant. The crude oil from each country yields different quantities of end-products once the oil is refined:\n",
    "\n",
    "|            | Saudi Arabia  | Venezuela      |\n",
    "|---         | ---           | ---            |\n",
    "| Cost       | $20 / barrel  | $15 / barrel   |\n",
    "| Max Order  | 9000 barrels  | 6000 barrels   |\n",
    "| Refining % | 30% gasolene  | 40% gasolene   |\n",
    "|            | 40% jet fuel  | 20% jet fuel   |\n",
    "|            | 20% lubricant | 30% lubricant  |\n",
    "|            | 10% waste     | 10% waste      |\n",
    "\n",
    "Given we need to produce the following volume of refined end-product:\n",
    "\n",
    "| Product   | Amount (barrels) |\n",
    "| ---       | ---              |\n",
    "| Gasolene  | 1900             |\n",
    "| Jet Fuel  | 1500             |\n",
    "| Lubricant | 500              |\n",
    "\n",
    " What is the most cost efficient purchase strategy of crude oil from Saudi Arabia and Venezuela?\n"
   ]
  },
  {
   "cell_type": "code",
   "execution_count": 5,
   "metadata": {
    "dotnet_interactive": {
     "language": "csharp"
    },
    "polyglot_notebook": {
     "kernelName": "csharp"
    },
    "vscode": {
     "languageId": "polyglot-notebook"
    }
   },
   "outputs": [],
   "source": [
    "using Microsoft.DotNet.Interactive;\n",
    "using Interactive.Prompty;\n",
    "using AutoGen.Core;\n",
    "using AutoGen.OpenAI;\n",
    "using AutoGen.OpenAI.Extension;\n",
    "using AutoGen.DotnetInteractive;\n",
    "using AutoGen.DotnetInteractive.Extension;\n",
    "\n",
    "\n",
    "await PromptyExtension.LoadExtensionAsync((CompositeKernel)Microsoft.DotNet.Interactive.Kernel.Root);"
   ]
  },
  {
   "cell_type": "code",
   "execution_count": 6,
   "metadata": {
    "dotnet_interactive": {
     "language": "csharp"
    },
    "polyglot_notebook": {
     "kernelName": "csharp"
    },
    "vscode": {
     "languageId": "polyglot-notebook"
    }
   },
   "outputs": [
    {
     "data": {
      "text/plain": [
       "Kernel added: #!prompty"
      ]
     },
     "metadata": {},
     "output_type": "display_data"
    }
   ],
   "source": [
    "#!connect prompty --kernel-name prompty"
   ]
  },
  {
   "cell_type": "markdown",
   "metadata": {},
   "source": [
    "## Add AI kernel"
   ]
  },
  {
   "cell_type": "code",
   "execution_count": 7,
   "metadata": {
    "dotnet_interactive": {
     "language": "csharp"
    },
    "polyglot_notebook": {
     "kernelName": "csharp"
    },
    "vscode": {
     "languageId": "polyglot-notebook"
    }
   },
   "outputs": [
    {
     "data": {
      "text/html": [
       "<div><form id=\"f560f6bef00c484e9e8904de6e9f0db0\"><div><label for=\"azureOpenaiEndpoint\">Please enter a value for parameter: --azure-openai-endpoint</label><br /><input required type=\"text\" id=\"azureOpenaiEndpoint\" name=\"azureOpenaiEndpoint\" value=\"https://xiaoyun-openai-canada-east.openai.azure.com/\" onkeydown=\"event.stopPropagation()\" /></div><div><label for=\"azureOpenaiDeploymentName\">Please enter a value for parameter: --azure-openai-deployment-name</label><br /><input required type=\"text\" id=\"azureOpenaiDeploymentName\" name=\"azureOpenaiDeploymentName\" value=\"gpt-4o\" onkeydown=\"event.stopPropagation()\" /></div><div><label for=\"azureOpenaiApikey\">Please enter a value for parameter: --azure-openai-apikey</label><br /><input required type=\"password\" id=\"azureOpenaiApikey\" name=\"azureOpenaiApikey\" value=\"53547b13b52046709973aac63084e390\" onkeydown=\"event.stopPropagation()\" /></div><button onclick=\"event.preventDefault(); sendSendValueCommand(document.getElementById(&#39;f560f6bef00c484e9e8904de6e9f0db0&#39;));\">Ok</button></form></div>"
      ]
     },
     "metadata": {},
     "output_type": "display_data"
    },
    {
     "data": {
      "text/plain": [
       "Kernel added: #!orchestrator-kernel"
      ]
     },
     "metadata": {},
     "output_type": "display_data"
    }
   ],
   "source": [
    "#!connect prompty-orchestrator --kernel-name orchestrator-kernel --prompty-kernel-name prompty --azure-openai-endpoint @input:{\"saveAs\":\"azure-openai-endpoint\"} --azure-openai-deployment-name @input:{\"saveAs\":\"azure-openai-deployment-name\"} --azure-openai-apikey @password:{\"saveAs\":\"azure-openai-apikey\"}"
   ]
  },
  {
   "cell_type": "markdown",
   "metadata": {},
   "source": [
    "# Create a prompty configuration for Z3 Linq problem-solving\n",
    "\n",
    "In the cell below, we'll create a prompty configuration that uses Z3 Linq to address customer requests in the context of mathematical and logical problems. This configuration will:\n",
    "\n",
    "1. Set up a system prompt that instructs the AI to use Z3 Linq for problem-solving.\n",
    "2. Provide a reference example of Z3 Linq usage.\n",
    "3. Use the `{{context}}` variable to incorporate specific problem details.\n",
    "4. Generate C# code that utilizes the Z3.Linq library to calculate answers.\n",
    "\n",
    "This configuration will enable us to efficiently solve various mathematical and logical problems using Z3 theorem prover within our interactive environment.\n"
   ]
  },
  {
   "cell_type": "code",
   "execution_count": 8,
   "metadata": {
    "dotnet_interactive": {
     "language": "prompty"
    },
    "polyglot_notebook": {
     "kernelName": "prompty"
    },
    "vscode": {
     "languageId": "polyglot-notebook"
    }
   },
   "outputs": [],
   "source": [
    "---\n",
    "name: ExamplePrompt\n",
    "description: A prompt that uses context to ground an incoming question\n",
    "authors:\n",
    "  - Diego & XiaoYun\n",
    "model:\n",
    "  api: chat\n",
    "  configuration:\n",
    "    type: azure_openai\n",
    "  parameters:\n",
    "    max_tokens: 3000\n",
    "sample:\n",
    "  firstName: Geeno\n",
    "---\n",
    "\n",
    "system:\n",
    "You use z3 to address customer request by generating C# that uses Z3.Linq library and calcuate the answer.\n",
    "\n",
    "Here is a quick Z3.Linq example for reference\n",
    "\n",
    "```csharp\n",
    "// using statement\n",
    "using System;\n",
    "using System.Diagnostics;\n",
    "using System.Globalization;\n",
    "\n",
    "using Z3.Linq;\n",
    "using Z3.Linq.Examples;\n",
    "using Z3.Linq.Examples.RiverCrossing;\n",
    "using Z3.Linq.Examples.Sudoku;\n",
    "```\n",
    "\n",
    "## Problem 1\n",
    "```\n",
    "Provide a solution where either X is true or Y is true (but not both).\n",
    "```\n",
    "\n",
    "## Solution for Problem 1\n",
    "```csharp\n",
    "using (var ctx = new Z3Context())\n",
    "{\n",
    "    var theorem = from t in ctx.NewTheorem<(bool x, bool y)>()\n",
    "                  where t.x ^ t.y\n",
    "                  select t;\n",
    "\n",
    "    var result = theorem.Solve();\n",
    "\n",
    "    Console.WriteLine(result);\n",
    "}\n",
    "```\n",
    "\n",
    "## Problem 2 - Linear Algebra\n",
    "```\n",
    "Solve the following system with 3 variables, with linear equalities and inequalities.\n",
    "\n",
    "$$\n",
    "x_1 - x_2 \\ge 1\n",
    "\\\\\n",
    "x_1 - x_2 \\le 3\n",
    "\\\\\n",
    "x_1 = 2x_3 + x_2\n",
    "$$\n",
    "```\n",
    "\n",
    "## Solution for Problem 2\n",
    "```csharp\n",
    "using (var ctx = new Z3Context())\n",
    "{\n",
    "    var theorem = from t in ctx.NewTheorem<Symbols<int, int, int>>()\n",
    "                  where t.X1 - t.X2 >= 1\n",
    "                  where t.X1 - t.X2 <= 3\n",
    "                  where t.X1 == (2 * t.X3) + t.X2\n",
    "                  select t;\n",
    "\n",
    "    var result = theorem.Solve();\n",
    "\n",
    "    Console.WriteLine(result);\n",
    "}\n",
    "```\n",
    "\n",
    "## Problem 3 - Minimizing Shipping Costs\n",
    "\n",
    "In this example, you want to minimize the cost of shipping goods from 2 different warehouses to 4 different customers. Each warehouse has a limited supply and each customer has a certain demand.\n",
    "\n",
    "Cost of shipping ($ per product):\n",
    "|             | Customer 1 | Customer 2 | Customer 3 | Customer 4 |\n",
    "|-------------|------------|------------|------------|------------|\n",
    "| Warehouse 1 | $1.00      | $3.00      | $0.50      | $4.00      |\n",
    "| Warehouse 2 | $2.50      | $5.00      | $1.50      | $2.50      |\n",
    "\n",
    "Number of products shipped:\n",
    "|                     | Customer 1 | Customer 2  | Customer 3 | Customer 4 | Total shipped |    | Available |\n",
    "|---------------------|------------|-------------|------------|------------|---------------|----|-----------|\n",
    "| Warehouse 1         | 0          | 13,000      | 15,000     | 32,000     | 60,000        | <= | 60,000    |\n",
    "| Warehouse 2         | 30,000     | 10,000      | 0          | 0          | 40,000        | <= | 80,000    |\n",
    "| Total received      | 30,000     | 23,000      | 15,000     | 32,000     |               |    |           |\n",
    "| Ordered             | 35,000     | 22,000      | 18,000     | 30,000     |               |    |           |\n",
    "| Total Shipping Cost |            | $299,500.00 |            |            |               |    |           |\n",
    "\n",
    "1. The objective is to minimize the cost (Total Shipping Cost).\n",
    "2. The variables are the number of products to ship from each warehouse to each customer.\n",
    "3. The constraints are the number of products ordered and the number of products available in each warehouse.\n",
    "\n",
    "## Solution for Problem 3\n",
    "```csharp\n",
    "using (var ctx = new Z3Context())\n",
    "{\n",
    "  var theorem =\n",
    "  from t in ctx.NewTheorem<(double w1c1, double w1c2, double w1c3, double w1c4, double w2c1, double w2c2, double w2c3, double w2c4)>()\n",
    "  where t.w1c1 + t.w1c2 + t.w1c3 + t.w1c4 <= 60_000 // Warehouse 1 Product Availability\n",
    "  where t.w2c1 + t.w2c2 + t.w2c3 + t.w2c4 <= 80_000 // Warehouse 2 Product Availability\n",
    "  where t.w1c1 + t.w2c1 == 35_000 && (t.w1c1 >= 0 && t.w2c1 >= 0) // Customer 1 Orders\n",
    "  where t.w1c2 + t.w2c2 == 22_000 && (t.w1c2 >= 0 && t.w2c2 >= 0) // Customer 2 Orders\n",
    "  where t.w1c3 + t.w2c3 == 18_000 && (t.w1c3 >= 0 && t.w2c3 >= 0) // Customer 3 Orders\n",
    "  where t.w1c4 + t.w2c4 == 30_000 && (t.w1c4 >= 0 && t.w2c4 >= 0) // Customer 4 Orders\n",
    "  orderby (1.00 * t.w1c1) + (3.00 * t.w1c2) + (0.50 * t.w1c3) + (4.00 * t.w1c4) +\n",
    "          (2.50 * t.w2c1) + (5.00 * t.w2c2) + (1.50 * t.w2c3) + (2.50 * t.w2c4) // Optimize for Total Shipping Cost\n",
    "  select t;\n",
    "\n",
    "  var result = theorem.Solve();\n",
    "  \n",
    "  Console.WriteLine($\"|                     | Customer 1 | Customer 2  | Customer 3 | Customer 4 |\");\n",
    "  Console.WriteLine($\"|---------------------|------------|-------------|------------|------------|\");\n",
    "  Console.WriteLine($\"| Warehouse 1         | {result.w1c1}      | {result.w1c2}       |  {result.w1c3}      | {result.w1c4}          |\");\n",
    "  Console.WriteLine($\"| Warehouse 2         | {result.w2c1}          | {result.w2c2}           | {result.w2c3}      | {result.w2c4}      |\");\n",
    "  Console.WriteLine();\n",
    "  Console.WriteLine(string.Create(CultureInfo.CreateSpecificCulture(\"en-US\"), $\"Total Cost: {1.00 * result.w1c1 + 3.00 * result.w1c2 + 0.50 * result.w1c3 + 4.00 * result.w1c4 + 2.50 * result.w2c1 + 5.00 * result.w2c2 + 1.50 * result.w2c3 + 2.50 * result.w2c4:C}\"));\n",
    "}\n",
    "```\n",
    "\n",
    "# Customer\n",
    "You are helping {{firstName}} to find answers to their questions.\n",
    "Use their name to address them in your responses.\n",
    "\n",
    "# Context\n",
    "Resolve the problem in the context and provide a more personalized response to {{firstName}}:\n",
    "\n",
    "Here are a few tips to keep in mind when using Z3.Linq library:\n",
    "- Don't create anonymous class after select. After you resolve the result, simply print the result to console.\n",
    "- Use top-level statement.\n",
    "- Always use `using` statement rather than `using` declarations.\n",
    "- Don't use `let` statement in Linq.\n",
    "- The only available fields for `t` is `X1`, `X2`, `X3` and so on. All other fields are unavailable.\n",
    "- Response and equations should be formated using latex\n",
    "- Use `orderby` statement when optimize the theorem\n",
    "- Always include the using statement for Z3.Linq, Z3.Linq.Example\n",
    "\n",
    "e.g. \n",
    "```csharp\n",
    "using (var ctx = new Z3Context())\n",
    "{\n",
    "    // xxxx\n",
    "}\n",
    "```\n",
    "\n",
    "{{context}}\n",
    "\n",
    "user:\n",
    "{{input}}\n"
   ]
  },
  {
   "cell_type": "markdown",
   "metadata": {},
   "source": [
    "Define the glue function call which to run Z3 code using C# kernel and get result back"
   ]
  },
  {
   "cell_type": "code",
   "execution_count": 9,
   "metadata": {
    "dotnet_interactive": {
     "language": "csharp"
    },
    "polyglot_notebook": {
     "kernelName": "csharp"
    },
    "vscode": {
     "languageId": "polyglot-notebook"
    }
   },
   "outputs": [],
   "source": [
    "using Microsoft.SemanticKernel;\n",
    "using Microsoft.SemanticKernel.ChatCompletion;\n",
    "using System.ComponentModel;\n",
    "using Microsoft.DotNet.Interactive.Events;\n",
    "using Microsoft.DotNet.Interactive.Commands;\n",
    "\n",
    "[KernelFunction]\n",
    "[Description(\"Resolve mathematical problems using Z3.Linq\")]\n",
    "[return: Description(\"The result of the Z3 query\")]\n",
    "public async static Task<string> Z3([Description(\"the C# script to run\")] string code)\n",
    "{\n",
    "    var events = new List<KernelEvent>();\n",
    "    var subscriptions = Microsoft.DotNet.Interactive.Kernel.Current.RootKernel.KernelEvents.Subscribe(e => events.Add(e));\n",
    "    var result = await Microsoft.DotNet.Interactive.Kernel.Root.RunSubmitCodeCommandAsync(code, \"csharp\");\n",
    "    subscriptions.Dispose();\n",
    "    var displayValues = events\n",
    "                        .OfType<DisplayEvent>()\n",
    "                        .SelectMany(x => x.FormattedValues);\n",
    "    \n",
    "    var sb = new StringBuilder();\n",
    "    sb.AppendLine(code);\n",
    "    \n",
    "\n",
    "    var codeRunningResult = string.Join(\"\\n\", displayValues.Select(x => x.Value)) ?? \"Nothing to display\";\n",
    "\n",
    "    sb.AppendLine(codeRunningResult);\n",
    "\n",
    "    return sb.ToString();\n",
    "}"
   ]
  },
  {
   "cell_type": "markdown",
   "metadata": {},
   "source": [
    "# Context Setting\n",
    "\n",
    "The following cells allow you to set the context for the Z3 problem-solving. You have two options:\n",
    "\n",
    "1. Oil Purchasing Optimization: This sets the context to solve a cost optimization problem for purchasing crude oil from two countries with different refining yields.\n",
    "\n",
    "Choose one of the following cells to run and set the desired context before proceeding to ask the AI to resolve the problem using Z3."
   ]
  },
  {
   "cell_type": "code",
   "execution_count": 12,
   "metadata": {
    "dotnet_interactive": {
     "language": "orchestrator-kernel"
    },
    "polyglot_notebook": {
     "kernelName": "orchestrator-kernel"
    },
    "vscode": {
     "languageId": "polyglot-notebook"
    }
   },
   "outputs": [],
   "source": [
    "#!set --value @value:OptimizeOilPurchasingPrice --name context\n"
   ]
  },
  {
   "cell_type": "markdown",
   "metadata": {},
   "source": [
    "# ask away!"
   ]
  },
  {
   "cell_type": "code",
   "execution_count": 14,
   "metadata": {
    "dotnet_interactive": {
     "language": "orchestrator-kernel"
    },
    "polyglot_notebook": {
     "kernelName": "orchestrator-kernel"
    },
    "vscode": {
     "languageId": "polyglot-notebook"
    }
   },
   "outputs": [
    {
     "data": {
      "text/plain": [
       "Sure, Geeno. Let's solve the problem of optimizing the cost of purchasing crude oil from Saudi Arabia and Venezuela to meet the specified end-product requirements using Z3.\n",
       "\n",
       "The given information can be summarized as follows:\n",
       "1. Crude oil costs:\n",
       "   - Saudi Arabia: $20 per barrel\n",
       "   - Venezuela: $15 per barrel\n",
       "\n",
       "2. Maximum order limits:\n",
       "   - Saudi Arabia: 9000 barrels\n",
       "   - Venezuela: 6000 barrels\n",
       "\n",
       "3. Refinement percentages:\n",
       "   - Saudi Arabia: 30% gasoline, 40% jet fuel, 20% lubricant, 10% waste\n",
       "   - Venezuela: 40% gasoline, 20% jet fuel, 30% lubricant, 10% waste\n",
       "\n",
       "4. Required end-products:\n",
       "   - Gasoline: 1900 barrels\n",
       "   - Jet Fuel: 1500 barrels\n",
       "   - Lubricant: 500 barrels\n",
       "\n",
       "Our objective is to minimize the cost while meeting the end-product requirements.\n",
       "\n",
       "Here's the C# code using the Z3.Linq library to solve this problem:\n",
       "\n",
       "```csharp\n",
       "using System;\n",
       "using Z3.Linq;\n",
       "using Z3.Linq.Examples;\n",
       "\n",
       "using (var ctx = new Z3Context())\n",
       "{\n",
       "    var theorem = from t in ctx.NewTheorem<Symbols<int, int>>()\n",
       "                  where t.X1 <= 9000 // Saudi Arabia maximum order\n",
       "                  where t.X2 <= 6000 // Venezuela maximum order\n",
       "                  where (0.3 * t.X1 + 0.4 * t.X2) >= 1900 // Gasoline requirement\n",
       "                  where (0.4 * t.X1 + 0.2 * t.X2) >= 1500 // Jet Fuel requirement\n",
       "                  where (0.2 * t.X1 + 0.3 * t.X2) >= 500 // Lubricant requirement\n",
       "                  orderby (20 * t.X1) + (15 * t.X2) // Minimize the total cost\n",
       "                  select t;\n",
       "\n",
       "    var result = theorem.Solve();\n",
       "\n",
       "    Console.WriteLine($\"Optimal barrels to order from Saudi Arabia: {result.X1}\");\n",
       "    Console.WriteLine($\"Optimal barrels to order from Venezuela: {result.X2}\");\n",
       "    Console.WriteLine($\"Total Cost: ${20 * result.X1 + 15 * result.X2}\");\n",
       "}\n",
       "```\n",
       "\n",
       "Let's run this code and find out the optimal solution for you.Geeno, I have found the optimal solution for purchasing crude oil to minimize costs while meeting the end-product requirements.\n",
       "\n",
       "### Solution\n",
       "1. **Optimal barrels to order from Saudi Arabia:** 2200 barrels\n",
       "2. **Optimal barrels to order from Venezuela:** 3100 barrels\n",
       "3. **Total Cost:** $90,500\n",
       "\n",
       "### Breakdown\n",
       "- From **Saudi Arabia**:\n",
       "  - \\(2200 \\times 0.3 = 660\\) barrels of gasoline\n",
       "  - \\(2200 \\times 0.4 = 880\\) barrels of jet fuel\n",
       "  - \\(2200 \\times 0.2 = 440\\) barrels of lubricant\n",
       "\n",
       "- From **Venezuela**:\n",
       "  - \\(3100 \\times 0.4 = 1240\\) barrels of gasoline\n",
       "  - \\(3100 \\times 0.2 = 620\\) barrels of jet fuel\n",
       "  - \\(3100 \\times 0.3 = 930\\) barrels of lubricant\n",
       "\n",
       "By summing these up, we get:\n",
       "- **Gasoline:** \\(660 + 1240 = 1900\\) barrels\n",
       "- **Jet Fuel:** \\(880 + 620 = 1500\\) barrels\n",
       "- **Lubricant:** \\(440 + 930 = 1370\\) barrels (exceeding the requirement)\n",
       "\n",
       "This solution ensures that all product requirements are met while minimizing the total cost. If you have any further questions, feel free to ask!"
      ]
     },
     "metadata": {},
     "output_type": "display_data"
    },
    {
     "name": "stdout",
     "output_type": "stream",
     "text": [
      "Optimal barrels to order from Saudi Arabia: 2200\n",
      "Optimal barrels to order from Venezuela: 3100\n",
      "Total Cost: $90500\n"
     ]
    }
   ],
   "source": [
    "Resolve the problem in the context using Z3"
   ]
  }
 ],
 "metadata": {
  "kernelspec": {
   "display_name": ".NET (C#)",
   "language": "C#",
   "name": ".net-csharp"
  },
  "language_info": {
   "name": "csharp"
  },
  "polyglot_notebook": {
   "kernelInfo": {
    "defaultKernelName": "csharp",
    "items": [
     {
      "aliases": [],
      "name": "csharp"
     },
     {
      "aliases": [],
      "languageName": "prompty",
      "name": "orchestrator-kernel"
     },
     {
      "aliases": [],
      "languageName": "prompty",
      "name": "prompty"
     }
    ]
   }
  }
 },
 "nbformat": 4,
 "nbformat_minor": 2
}
