{
 "cells": [
  {
   "cell_type": "markdown",
   "metadata": {},
   "source": [
    "## Use Z3.Linq and code interpreter to resolve Mathmatic problem"
   ]
  },
  {
   "cell_type": "code",
   "execution_count": 1,
   "metadata": {
    "dotnet_interactive": {
     "language": "csharp"
    },
    "polyglot_notebook": {
     "kernelName": "csharp"
    },
    "vscode": {
     "languageId": "polyglot-notebook"
    }
   },
   "outputs": [
    {
     "data": {
      "text/html": [
       "<div><div></div><div></div><div><strong>Installed Packages</strong><ul><li><span>AutoGen, 0.2.1</span></li><li><span>AutoGen.DotnetInteractive, 0.2.1</span></li><li><span>Microsoft.SemanticKernel, 1.22.0</span></li><li><span>Microsoft.SemanticKernel.Abstractions, 1.22.0</span></li><li><span>Microsoft.SemanticKernel.Prompty, 1.22.0-alpha</span></li><li><span>Z3.Linq, 2.0.1</span></li><li><span>Z3.Linq.Examples, 2.0.1</span></li></ul></div></div>"
      ]
     },
     "metadata": {},
     "output_type": "display_data"
    }
   ],
   "source": [
    "#r \"nuget: Microsoft.SemanticKernel, 1.22.0\"\n",
    "#r \"nuget: Microsoft.SemanticKernel.Prompty, 1.22.0-alpha\"\n",
    "#r \"nuget: Microsoft.SemanticKernel.Abstractions, 1.22.0\"\n",
    "#r \"nuget:Z3.Linq,*-*\"\n",
    "#r \"nuget:Z3.Linq.Examples,*-*\"\n",
    "\n",
    "#r \"nuget:AutoGen,0.2.1\"\n",
    "#r \"nuget:AutoGen.DotnetInteractive,0.2.1\""
   ]
  },
  {
   "cell_type": "code",
   "execution_count": 2,
   "metadata": {
    "dotnet_interactive": {
     "language": "csharp"
    },
    "polyglot_notebook": {
     "kernelName": "csharp"
    },
    "vscode": {
     "languageId": "polyglot-notebook"
    }
   },
   "outputs": [],
   "source": [
    "#r \"Interactive.Prompty/Interactive.Prompty/bin/Debug/net8.0/Interactive.Prompty.dll\""
   ]
  },
  {
   "cell_type": "code",
   "execution_count": 3,
   "metadata": {
    "dotnet_interactive": {
     "language": "csharp"
    },
    "polyglot_notebook": {
     "kernelName": "csharp"
    },
    "vscode": {
     "languageId": "polyglot-notebook"
    }
   },
   "outputs": [
    {
     "data": {
      "text/plain": [
       "### Problem - Linear Algebra\n",
       "\n",
       "Solve the following system with 3 variables, with linear equalities and inequalities:\n",
       "\n",
       "$$\n",
       "x_1 - x_2 \\ge 1\n",
       "\\\\\n",
       "x_1 - x_2 \\le 3\n",
       "\\\\\n",
       "x_1 = 2x_3 + x_2\n",
       "$$\n"
      ]
     },
     "metadata": {},
     "output_type": "display_data"
    }
   ],
   "source": [
    "#!value --name linearAlgebra\n",
    "### Problem - Linear Algebra\n",
    "\n",
    "Solve the following system with 3 variables, with linear equalities and inequalities:\n",
    "\n",
    "$$\n",
    "x_1 - x_2 \\ge 1\n",
    "\\\\\n",
    "x_1 - x_2 \\le 3\n",
    "\\\\\n",
    "x_1 = 2x_3 + x_2\n",
    "$$\n"
   ]
  },
  {
   "cell_type": "code",
   "execution_count": 4,
   "metadata": {
    "dotnet_interactive": {
     "language": "csharp"
    },
    "polyglot_notebook": {
     "kernelName": "csharp"
    },
    "vscode": {
     "languageId": "polyglot-notebook"
    }
   },
   "outputs": [
    {
     "data": {
      "text/plain": [
       "### Problem - Price Optimised Oil Purchasing\n",
       "\n",
       "In this example, we have two  countries that produce crude oil which we refine into three end-products: gasoline, jet fuel, and lubricant. The crude oil from each country yields different quantities of end-products once the oil is refined:\n",
       "\n",
       "|            | Saudi Arabia  | Venezuela      |\n",
       "|---         | ---           | ---            |\n",
       "| Cost       | $20 / barrel  | $15 / barrel   |\n",
       "| Max Order  | 9000 barrels  | 6000 barrels   |\n",
       "| Refining % | 30% gasolene  | 40% gasolene   |\n",
       "|            | 40% jet fuel  | 20% jet fuel   |\n",
       "|            | 20% lubricant | 30% lubricant  |\n",
       "|            | 10% waste     | 10% waste      |\n",
       "\n",
       "Given we need to produce the following volume of refined end-product:\n",
       "\n",
       "| Product   | Amount (barrels) |\n",
       "| ---       | ---              |\n",
       "| Gasolene  | 1900             |\n",
       "| Jet Fuel  | 1500             |\n",
       "| Lubricant | 500              |\n",
       "\n",
       " What is the most cost efficient purchase strategy of crude oil from Saudi Arabia and Venezuela?\n"
      ]
     },
     "metadata": {},
     "output_type": "display_data"
    }
   ],
   "source": [
    "#!value --name shippingCost\n",
    "### Problem - Price Optimised Oil Purchasing\n",
    "\n",
    "In this example, we have two  countries that produce crude oil which we refine into three end-products: gasoline, jet fuel, and lubricant. The crude oil from each country yields different quantities of end-products once the oil is refined:\n",
    "\n",
    "|            | Saudi Arabia  | Venezuela      |\n",
    "|---         | ---           | ---            |\n",
    "| Cost       | $20 / barrel  | $15 / barrel   |\n",
    "| Max Order  | 9000 barrels  | 6000 barrels   |\n",
    "| Refining % | 30% gasolene  | 40% gasolene   |\n",
    "|            | 40% jet fuel  | 20% jet fuel   |\n",
    "|            | 20% lubricant | 30% lubricant  |\n",
    "|            | 10% waste     | 10% waste      |\n",
    "\n",
    "Given we need to produce the following volume of refined end-product:\n",
    "\n",
    "| Product   | Amount (barrels) |\n",
    "| ---       | ---              |\n",
    "| Gasolene  | 1900             |\n",
    "| Jet Fuel  | 1500             |\n",
    "| Lubricant | 500              |\n",
    "\n",
    " What is the most cost efficient purchase strategy of crude oil from Saudi Arabia and Venezuela?\n"
   ]
  },
  {
   "cell_type": "code",
   "execution_count": 3,
   "metadata": {
    "dotnet_interactive": {
     "language": "csharp"
    },
    "polyglot_notebook": {
     "kernelName": "csharp"
    },
    "vscode": {
     "languageId": "polyglot-notebook"
    }
   },
   "outputs": [],
   "source": [
    "using System.Diagnostics;\n",
    "Debugger.Launch();"
   ]
  },
  {
   "cell_type": "code",
   "execution_count": 5,
   "metadata": {
    "dotnet_interactive": {
     "language": "csharp"
    },
    "polyglot_notebook": {
     "kernelName": "csharp"
    },
    "vscode": {
     "languageId": "polyglot-notebook"
    }
   },
   "outputs": [],
   "source": [
    "using Microsoft.DotNet.Interactive;\n",
    "using Interactive.Prompty;\n",
    "using AutoGen.Core;\n",
    "using AutoGen.OpenAI;\n",
    "using AutoGen.OpenAI.Extension;\n",
    "using AutoGen.DotnetInteractive;\n",
    "using AutoGen.DotnetInteractive.Extension;\n",
    "\n",
    "\n",
    "await PromptyExtension.LoadExtensionAsync((CompositeKernel)Microsoft.DotNet.Interactive.Kernel.Root);"
   ]
  },
  {
   "cell_type": "code",
   "execution_count": 6,
   "metadata": {
    "dotnet_interactive": {
     "language": "csharp"
    },
    "polyglot_notebook": {
     "kernelName": "csharp"
    },
    "vscode": {
     "languageId": "polyglot-notebook"
    }
   },
   "outputs": [
    {
     "data": {
      "text/plain": [
       "Kernel added: #!prompty"
      ]
     },
     "metadata": {},
     "output_type": "display_data"
    }
   ],
   "source": [
    "#!connect prompty --kernel-name prompty"
   ]
  },
  {
   "cell_type": "code",
   "execution_count": 7,
   "metadata": {
    "dotnet_interactive": {
     "language": "csharp"
    },
    "polyglot_notebook": {
     "kernelName": "csharp"
    },
    "vscode": {
     "languageId": "polyglot-notebook"
    }
   },
   "outputs": [
    {
     "data": {
      "text/html": [
       "<div><form id=\"cd4412c69fc04cf1976b18cb7ecd6365\"><div><label for=\"azureOpenaiEndpoint\">Please enter a value for parameter: --azure-openai-endpoint</label><br /><input required type=\"text\" id=\"azureOpenaiEndpoint\" name=\"azureOpenaiEndpoint\" value=\"https://xiaoyun-openai-canada-east.openai.azure.com/\" onkeydown=\"event.stopPropagation()\" /></div><div><label for=\"azureOpenaiDeploymentName\">Please enter a value for parameter: --azure-openai-deployment-name</label><br /><input required type=\"text\" id=\"azureOpenaiDeploymentName\" name=\"azureOpenaiDeploymentName\" value=\"gpt-4o\" onkeydown=\"event.stopPropagation()\" /></div><div><label for=\"azureOpenaiApikey\">Please enter a value for parameter: --azure-openai-apikey</label><br /><input required type=\"password\" id=\"azureOpenaiApikey\" name=\"azureOpenaiApikey\" value=\"53547b13b52046709973aac63084e390\" onkeydown=\"event.stopPropagation()\" /></div><button onclick=\"event.preventDefault(); sendSendValueCommand(document.getElementById(&#39;cd4412c69fc04cf1976b18cb7ecd6365&#39;));\">Ok</button></form></div>"
      ]
     },
     "metadata": {},
     "output_type": "display_data"
    },
    {
     "data": {
      "text/plain": [
       "Kernel added: #!orchestrator-kernel"
      ]
     },
     "metadata": {},
     "output_type": "display_data"
    }
   ],
   "source": [
    "#!connect promptyOrchestrator --kernel-name orchestrator-kernel --prompty-kernel-name prompty --azure-openai-endpoint @input:{\"saveAs\":\"azure-openai-endpoint\"} --azure-openai-deployment-name @input:{\"saveAs\":\"azure-openai-deployment-name\"} --azure-openai-apikey @password:{\"saveAs\":\"azure-openai-apikey\"}"
   ]
  },
  {
   "cell_type": "code",
   "execution_count": 12,
   "metadata": {
    "dotnet_interactive": {
     "language": "prompty"
    },
    "polyglot_notebook": {
     "kernelName": "prompty"
    },
    "vscode": {
     "languageId": "polyglot-notebook"
    }
   },
   "outputs": [],
   "source": [
    "---\n",
    "name: Z3Geeno\n",
    "description: A prompt that uses context to ground an incoming question\n",
    "authors:\n",
    "  - Seth Juarez\n",
    "model:\n",
    "  api: chat\n",
    "  parameters:\n",
    "    max_tokens: 3000\n",
    "sample:\n",
    "  firstName: Geeno\n",
    "---\n",
    "\n",
    "system:\n",
    "You use z3 to address customer request by generating C# that uses Z3.Linq library and calcuate the answer.\n",
    "\n",
    "Here is a quick Z3.Linq example for reference\n",
    "\n",
    "```csharp\n",
    "// using statement\n",
    "using System;\n",
    "using System.Diagnostics;\n",
    "using System.Globalization;\n",
    "\n",
    "using Z3.Linq;\n",
    "using Z3.Linq.Examples;\n",
    "using Z3.Linq.Examples.RiverCrossing;\n",
    "using Z3.Linq.Examples.Sudoku;\n",
    "```\n",
    "\n",
    "## Problem 1\n",
    "```\n",
    "Provide a solution where either X is true or Y is true (but not both).\n",
    "```\n",
    "\n",
    "## Solution for Problem 1\n",
    "```csharp\n",
    "using (var ctx = new Z3Context())\n",
    "{\n",
    "    var theorem = from t in ctx.NewTheorem<(bool x, bool y)>()\n",
    "                  where t.x ^ t.y\n",
    "                  select t;\n",
    "\n",
    "    var result = theorem.Solve();\n",
    "\n",
    "    Console.WriteLine(result);\n",
    "}\n",
    "```\n",
    "\n",
    "## Problem 2 - Linear Algebra\n",
    "```\n",
    "Solve the following system with 3 variables, with linear equalities and inequalities.\n",
    "\n",
    "$$\n",
    "x_1 - x_2 \\ge 1\n",
    "\\\\\n",
    "x_1 - x_2 \\le 3\n",
    "\\\\\n",
    "x_1 = 2x_3 + x_2\n",
    "$$\n",
    "```\n",
    "\n",
    "## Solution for Problem 2\n",
    "```csharp\n",
    "using (var ctx = new Z3Context())\n",
    "{\n",
    "    var theorem = from t in ctx.NewTheorem<Symbols<int, int, int>>()\n",
    "                  where t.X1 - t.X2 >= 1\n",
    "                  where t.X1 - t.X2 <= 3\n",
    "                  where t.X1 == (2 * t.X3) + t.X2\n",
    "                  select t;\n",
    "\n",
    "    var result = theorem.Solve();\n",
    "\n",
    "    Console.WriteLine(result);\n",
    "}\n",
    "```\n",
    "\n",
    "# Customer\n",
    "You are helping {{firstName}} to find answers to their questions.\n",
    "Use their name to address them in your responses.\n",
    "\n",
    "# Context\n",
    "Resolve the problem in the context and provide a more personalized response to {{firstName}}:\n",
    "\n",
    "Here are a few tips to keep in mind when using Z3.Linq library:\n",
    "- Don't create anonymous class after select. After you resolve the result, simply print the result to console.\n",
    "- Use top-level statement. Don't use `let` in Linq.\n",
    "- Always use `using` statement rather than `using` declarations.\n",
    "e.g. \n",
    "```csharp\n",
    "using (var ctx = new Z3Context())\n",
    "{\n",
    "    // xxxx\n",
    "}\n",
    "```\n",
    "\n",
    "{{context}}\n",
    "\n",
    "user:\n",
    "{{input}}\n"
   ]
  },
  {
   "cell_type": "code",
   "execution_count": 10,
   "metadata": {
    "dotnet_interactive": {
     "language": "csharp"
    },
    "polyglot_notebook": {
     "kernelName": "csharp"
    },
    "vscode": {
     "languageId": "polyglot-notebook"
    }
   },
   "outputs": [],
   "source": [
    "using Microsoft.SemanticKernel;\n",
    "using Microsoft.SemanticKernel.ChatCompletion;\n",
    "using System.ComponentModel;\n",
    "using Microsoft.DotNet.Interactive.Events;\n",
    "using Microsoft.DotNet.Interactive.Commands;\n",
    "\n",
    "[KernelFunction]\n",
    "[Description(\"Resolve mathematical problems using Z3.Linq\")]\n",
    "[return: Description(\"The result of the Z3 query\")]\n",
    "public async static Task<string> Z3([Description(\"the C# script to run\")] string code)\n",
    "{\n",
    "    var events = new List<KernelEvent>();\n",
    "    var subscriptions = Microsoft.DotNet.Interactive.Kernel.Current.RootKernel.KernelEvents.Subscribe(e => events.Add(e));\n",
    "    var result = await Microsoft.DotNet.Interactive.Kernel.Root.RunSubmitCodeCommandAsync(code, \"csharp\");\n",
    "    subscriptions.Dispose();\n",
    "    var displayValues = events\n",
    "                        .OfType<DisplayEvent>()\n",
    "                        .SelectMany(x => x.FormattedValues);\n",
    "    \n",
    "    \n",
    "\n",
    "    return string.Join(\"\\n\", displayValues.Select(x => x.Value)) ?? \"Nothing to display\";\n",
    "}"
   ]
  },
  {
   "cell_type": "code",
   "execution_count": 13,
   "metadata": {
    "dotnet_interactive": {
     "language": "orchestrator-kernel"
    },
    "polyglot_notebook": {
     "kernelName": "orchestrator-kernel"
    },
    "vscode": {
     "languageId": "polyglot-notebook"
    }
   },
   "outputs": [
    {
     "data": {
      "text/plain": [
       "Certainly, Geeno! Let's resolve the problem of finding the most cost-efficient purchasing strategy for crude oil using Z3.Linq in C#. Here's the solution:\n",
       "\n",
       "1. **Define Variables:**\n",
       "   - Let \\( x \\) represent the number of barrels of crude oil to purchase from Saudi Arabia.\n",
       "   - Let \\( y \\) represent the number of barrels of crude oil to purchase from Venezuela.\n",
       "\n",
       "2. **Constraints:**\n",
       "   - Cost of crude oil: \n",
       "     \\[\n",
       "     \\text{Total cost} = 20x + 15y\n",
       "     \\]\n",
       "   - Production limits:\n",
       "     \\[\n",
       "     0 \\leq x \\leq 9000\n",
       "     \\]\n",
       "     \\[\n",
       "     0 \\leq y \\leq 6000\n",
       "     \\]\n",
       "   - Refining constraints:\n",
       "     - Gasoline: \n",
       "       \\[\n",
       "       0.3x + 0.4y \\geq 1900\n",
       "       \\]\n",
       "     - Jet Fuel: \n",
       "       \\[\n",
       "       0.4x + 0.2y \\geq 1500\n",
       "       \\]\n",
       "     - Lubricant: \n",
       "       \\[\n",
       "       0.2x + 0.3y \\geq 500\n",
       "       \\]\n",
       "\n",
       "3. **Objective:** \n",
       "   Minimize the cost:\n",
       "   \\[\n",
       "   \\min 20x + 15y\n",
       "   \\]\n",
       "\n",
       "Here's the C# code using Z3.Linq to solve this:\n",
       "\n",
       "```csharp\n",
       "using System;\n",
       "using Z3.Linq;\n",
       "\n",
       "using (var ctx = new Z3Context())\n",
       "{\n",
       "    var result = from t in ctx.NewTheorem<Symbols<int, int>>()\n",
       "                 where 0 <= t.X1 && t.X1 <= 9000             // Saudi Arabia barrels constraint\n",
       "                 where 0 <= t.X2 && t.X2 <= 6000             // Venezuela barrels constraint\n",
       "                 where 0.3 * t.X1 + 0.4 * t.X2 >= 1900       // Gasoline production constraint\n",
       "                 where 0.4 * t.X1 + 0.2 * t.X2 >= 1500       // Jet Fuel production constraint\n",
       "                 where 0.2 * t.X1 + 0.3 * t.X2 >= 500        // Lubricant production constraint\n",
       "                 orderby 20 * t.X1 + 15 * t.X2               // Minimizing cost\n",
       "                 select t;\n",
       "\n",
       "    var solution = result.Solve();\n",
       "    Console.WriteLine($\"Best strategy: Order {solution.X1} barrels from Saudi Arabia and {solution.X2} barrels from Venezuela.\");\n",
       "}\n",
       "```\n",
       "\n",
       "**Explanation:**\n",
       "- We define the constraints for production volume and order limits.\n",
       "- We add constraints for refined product minimum requirements.\n",
       "- We use `orderby` to minimize the cost.\n",
       "\n",
       "This script will output the optimal number of barrels to order from Saudi Arabia and Venezuela. Let's execute it to find the answer!Geeno, we have the results!\n",
       "\n",
       "The most cost-efficient strategy for purchasing crude oil is:\n",
       "\n",
       "- Order **2200 barrels** from Saudi Arabia.\n",
       "- Order **3100 barrels** from Venezuela.\n",
       "\n",
       "This strategy satisfies all the production constraints and minimizes the cost.\n",
       "\n",
       "To summarize in LaTeX:\n",
       "\n",
       "\\[\n",
       "\\begin{align*}\n",
       "\\text{Crude oil from Saudi Arabia:} & \\quad 2200 \\text{ barrels} \\\\\n",
       "\\text{Crude oil from Venezuela:} & \\quad 3100 \\text{ barrels} \\\\\n",
       "\\end{align*}\n",
       "\\]"
      ]
     },
     "metadata": {},
     "output_type": "display_data"
    },
    {
     "name": "stdout",
     "output_type": "stream",
     "text": [
      "Best strategy: Order 2200 barrels from Saudi Arabia and 3100 barrels from Venezuela.\r\n"
     ]
    }
   ],
   "source": [
    "Resolve the problem in the context using Z3, format your answer with latex"
   ]
  },
  {
   "cell_type": "code",
   "execution_count": 26,
   "metadata": {
    "dotnet_interactive": {
     "language": "orchestrator-kernel"
    },
    "polyglot_notebook": {
     "kernelName": "orchestrator-kernel"
    },
    "vscode": {
     "languageId": "polyglot-notebook"
    }
   },
   "outputs": [],
   "source": [
    "#!set --value @value:linearAlgebra --name context\n"
   ]
  },
  {
   "cell_type": "code",
   "execution_count": 8,
   "metadata": {
    "dotnet_interactive": {
     "language": "orchestrator-kernel"
    },
    "polyglot_notebook": {
     "kernelName": "orchestrator-kernel"
    },
    "vscode": {
     "languageId": "polyglot-notebook"
    }
   },
   "outputs": [],
   "source": [
    "#!set --value @value:shippingCost --name context\n"
   ]
  }
 ],
 "metadata": {
  "kernelspec": {
   "display_name": ".NET (C#)",
   "language": "C#",
   "name": ".net-csharp"
  },
  "language_info": {
   "name": "csharp"
  },
  "polyglot_notebook": {
   "kernelInfo": {
    "defaultKernelName": "csharp",
    "items": [
     {
      "aliases": [],
      "name": "csharp"
     },
     {
      "aliases": [],
      "languageName": "prompty",
      "name": "orchestrator-kernel"
     },
     {
      "aliases": [],
      "languageName": "prompty",
      "name": "prompty"
     }
    ]
   }
  }
 },
 "nbformat": 4,
 "nbformat_minor": 2
}
