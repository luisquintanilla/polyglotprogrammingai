{
 "cells": [
  {
   "cell_type": "code",
   "execution_count": 1,
   "metadata": {
    "dotnet_interactive": {
     "language": "csharp"
    },
    "polyglot_notebook": {
     "kernelName": "csharp"
    },
    "vscode": {
     "languageId": "polyglot-notebook"
    }
   },
   "outputs": [
    {
     "data": {
      "text/html": [
       "<div><div></div><div></div><div><strong>Installed Packages</strong><ul><li><span>AutoGen, 0.2.1</span></li><li><span>AutoGen.DotnetInteractive, 0.2.1</span></li><li><span>Microsoft.SemanticKernel, 1.22.0</span></li><li><span>Microsoft.SemanticKernel.Abstractions, 1.22.0</span></li><li><span>Microsoft.SemanticKernel.Prompty, 1.22.0-alpha</span></li><li><span>Z3.Linq, 2.0.1</span></li><li><span>Z3.Linq.Examples, 2.0.1</span></li></ul></div></div>"
      ]
     },
     "metadata": {},
     "output_type": "display_data"
    }
   ],
   "source": [
    "#r \"nuget: Microsoft.SemanticKernel, 1.22.0\"\n",
    "#r \"nuget: Microsoft.SemanticKernel.Prompty, 1.22.0-alpha\"\n",
    "#r \"nuget: Microsoft.SemanticKernel.Abstractions, 1.22.0\"\n",
    "#r \"nuget:Z3.Linq,*-*\"\n",
    "#r \"nuget:Z3.Linq.Examples,*-*\"\n",
    "\n",
    "#r \"nuget:AutoGen,0.2.1\"\n",
    "#r \"nuget:AutoGen.DotnetInteractive,0.2.1\""
   ]
  },
  {
   "cell_type": "code",
   "execution_count": 2,
   "metadata": {
    "dotnet_interactive": {
     "language": "csharp"
    },
    "polyglot_notebook": {
     "kernelName": "csharp"
    },
    "vscode": {
     "languageId": "polyglot-notebook"
    }
   },
   "outputs": [],
   "source": [
    "#r \"Interactive.Prompty/Interactive.Prompty/bin/Debug/net8.0/Interactive.Prompty.dll\""
   ]
  },
  {
   "cell_type": "code",
   "execution_count": 3,
   "metadata": {
    "dotnet_interactive": {
     "language": "csharp"
    },
    "polyglot_notebook": {
     "kernelName": "csharp"
    },
    "vscode": {
     "languageId": "polyglot-notebook"
    }
   },
   "outputs": [
    {
     "data": {
      "text/plain": [
       "### Problem - Linear Algebra\r\n",
       "\r\n",
       "Solve the following system with 3 variables, with linear equalities and inequalities:\r\n",
       "\r\n",
       "$$\r\n",
       "x_1 - x_2 \\ge 1\r\n",
       "\\\\\r\n",
       "x_1 - x_2 \\le 3\r\n",
       "\\\\\r\n",
       "x_1 = 2x_3 + x_2\r\n",
       "$$\r\n"
      ]
     },
     "metadata": {},
     "output_type": "display_data"
    }
   ],
   "source": [
    "#!value --name linearAlgebra\n",
    "### Problem - Linear Algebra\n",
    "\n",
    "Solve the following system with 3 variables, with linear equalities and inequalities:\n",
    "\n",
    "$$\n",
    "x_1 - x_2 \\ge 1\n",
    "\\\\\n",
    "x_1 - x_2 \\le 3\n",
    "\\\\\n",
    "x_1 = 2x_3 + x_2\n",
    "$$\n"
   ]
  },
  {
   "cell_type": "code",
   "execution_count": 4,
   "metadata": {
    "vscode": {
     "languageId": "polyglot-notebook"
    }
   },
   "outputs": [
    {
     "data": {
      "text/plain": [
       "### Problem - Price Optimised Oil Purchasing\r\n",
       "\r\n",
       "In this example, we have two  countries that produce crude oil which we refine into three end-products: gasoline, jet fuel, and lubricant. The crude oil from each country yields different quantities of end-products once the oil is refined:\r\n",
       "\r\n",
       "|            | Saudi Arabia  | Venezuela      |\r\n",
       "|---         | ---           | ---            |\r\n",
       "| Cost       | $20 / barrel  | $15 / barrel   |\r\n",
       "| Max Order  | 9000 barrels  | 6000 barrels   |\r\n",
       "| Refining % | 30% gasolene  | 40% gasolene   |\r\n",
       "|            | 40% jet fuel  | 20% jet fuel   |\r\n",
       "|            | 20% lubricant | 30% lubricant  |\r\n",
       "|            | 10% waste     | 10% waste      |\r\n",
       "\r\n",
       "Given we need to produce the following volume of refined end-product:\r\n",
       "\r\n",
       "| Product   | Amount (barrels) |\r\n",
       "| ---       | ---              |\r\n",
       "| Gasolene  | 1900             |\r\n",
       "| Jet Fuel  | 1500             |\r\n",
       "| Lubricant | 500              |\r\n",
       "\r\n",
       " What is the most cost efficient purchase strategy of crude oil from Saudi Arabia and Venezuela?\r\n"
      ]
     },
     "metadata": {},
     "output_type": "display_data"
    }
   ],
   "source": [
    "#!value --name shippingCost\n",
    "### Problem - Price Optimised Oil Purchasing\n",
    "\n",
    "In this example, we have two  countries that produce crude oil which we refine into three end-products: gasoline, jet fuel, and lubricant. The crude oil from each country yields different quantities of end-products once the oil is refined:\n",
    "\n",
    "|            | Saudi Arabia  | Venezuela      |\n",
    "|---         | ---           | ---            |\n",
    "| Cost       | $20 / barrel  | $15 / barrel   |\n",
    "| Max Order  | 9000 barrels  | 6000 barrels   |\n",
    "| Refining % | 30% gasolene  | 40% gasolene   |\n",
    "|            | 40% jet fuel  | 20% jet fuel   |\n",
    "|            | 20% lubricant | 30% lubricant  |\n",
    "|            | 10% waste     | 10% waste      |\n",
    "\n",
    "Given we need to produce the following volume of refined end-product:\n",
    "\n",
    "| Product   | Amount (barrels) |\n",
    "| ---       | ---              |\n",
    "| Gasolene  | 1900             |\n",
    "| Jet Fuel  | 1500             |\n",
    "| Lubricant | 500              |\n",
    "\n",
    " What is the most cost efficient purchase strategy of crude oil from Saudi Arabia and Venezuela?\n"
   ]
  },
  {
   "cell_type": "code",
   "execution_count": 3,
   "metadata": {
    "dotnet_interactive": {
     "language": "csharp"
    },
    "polyglot_notebook": {
     "kernelName": "csharp"
    },
    "vscode": {
     "languageId": "polyglot-notebook"
    }
   },
   "outputs": [],
   "source": [
    "using System.Diagnostics;\n",
    "Debugger.Launch();"
   ]
  },
  {
   "cell_type": "code",
   "execution_count": 5,
   "metadata": {
    "dotnet_interactive": {
     "language": "csharp"
    },
    "polyglot_notebook": {
     "kernelName": "csharp"
    },
    "vscode": {
     "languageId": "polyglot-notebook"
    }
   },
   "outputs": [],
   "source": [
    "using Microsoft.DotNet.Interactive;\n",
    "using Interactive.Prompty;\n",
    "using AutoGen.Core;\n",
    "using AutoGen.OpenAI;\n",
    "using AutoGen.OpenAI.Extension;\n",
    "using AutoGen.DotnetInteractive;\n",
    "using AutoGen.DotnetInteractive.Extension;\n",
    "\n",
    "\n",
    "await PromptyExtension.LoadExtensionAsync((CompositeKernel)Microsoft.DotNet.Interactive.Kernel.Root);"
   ]
  },
  {
   "cell_type": "code",
   "execution_count": 6,
   "metadata": {
    "dotnet_interactive": {
     "language": "csharp"
    },
    "polyglot_notebook": {
     "kernelName": "csharp"
    },
    "vscode": {
     "languageId": "polyglot-notebook"
    }
   },
   "outputs": [
    {
     "data": {
      "text/plain": [
       "Kernel added: #!prompty"
      ]
     },
     "metadata": {},
     "output_type": "display_data"
    }
   ],
   "source": [
    "#!connect prompty --kernel-name prompty"
   ]
  },
  {
   "cell_type": "code",
   "execution_count": 7,
   "metadata": {
    "dotnet_interactive": {
     "language": "csharp"
    },
    "polyglot_notebook": {
     "kernelName": "csharp"
    },
    "vscode": {
     "languageId": "polyglot-notebook"
    }
   },
   "outputs": [
    {
     "data": {
      "text/html": [
       "<div><form id=\"464f2950efb84d36a9cdb64ceb959aad\"><div><label for=\"azureOpenaiEndpoint\">Please enter a value for parameter: --azure-openai-endpoint</label><br /><input required type=\"text\" id=\"azureOpenaiEndpoint\" name=\"azureOpenaiEndpoint\" value=\"https://xiaoyun-openai-canada-east.openai.azure.com/\" onkeydown=\"event.stopPropagation()\" /></div><div><label for=\"azureOpenaiDeploymentName\">Please enter a value for parameter: --azure-openai-deployment-name</label><br /><input required type=\"text\" id=\"azureOpenaiDeploymentName\" name=\"azureOpenaiDeploymentName\" value=\"gpt-4o\" onkeydown=\"event.stopPropagation()\" /></div><div><label for=\"azureOpenaiApikey\">Please enter a value for parameter: --azure-openai-apikey</label><br /><input required type=\"password\" id=\"azureOpenaiApikey\" name=\"azureOpenaiApikey\" value=\"53547b13b52046709973aac63084e390\" onkeydown=\"event.stopPropagation()\" /></div><button onclick=\"event.preventDefault(); sendSendValueCommand(document.getElementById(&#39;464f2950efb84d36a9cdb64ceb959aad&#39;));\">Ok</button></form></div>"
      ]
     },
     "metadata": {},
     "output_type": "display_data"
    },
    {
     "data": {
      "text/plain": [
       "Kernel added: #!orchestrator-kernel"
      ]
     },
     "metadata": {},
     "output_type": "display_data"
    }
   ],
   "source": [
    "#!connect promptyOrchestrator --kernel-name orchestrator-kernel --prompty-kernel-name prompty --azure-openai-endpoint @input:{\"saveAs\":\"azure-openai-endpoint\"} --azure-openai-deployment-name @input:{\"saveAs\":\"azure-openai-deployment-name\"} --azure-openai-apikey @password:{\"saveAs\":\"azure-openai-apikey\"}"
   ]
  },
  {
   "cell_type": "code",
   "execution_count": 8,
   "metadata": {
    "dotnet_interactive": {
     "language": "prompty"
    },
    "polyglot_notebook": {
     "kernelName": "prompty"
    },
    "vscode": {
     "languageId": "polyglot-notebook"
    }
   },
   "outputs": [],
   "source": [
    "---\n",
    "name: ExamplePrompt\n",
    "description: A prompt that uses context to ground an incoming question\n",
    "authors:\n",
    "  - Seth Juarez\n",
    "model:\n",
    "  api: chat\n",
    "  configuration:\n",
    "    type: azure_openai\n",
    "    azure_endpoint: ${env:AZURE_OPENAI_ENDPOINT}\n",
    "    azure_deployment: <your-deployment>\n",
    "  parameters:\n",
    "    max_tokens: 3000\n",
    "sample:\n",
    "  firstName: Geeno\n",
    "---\n",
    "\n",
    "system:\n",
    "You use z3 to address customer request by generating C# that uses Z3.Linq library and calcuate the answer.\n",
    "\n",
    "Here is the using statement you need to add\n",
    "```csharp\n",
    "// using statement\n",
    "using System;\n",
    "using System.Diagnostics;\n",
    "using System.Globalization;\n",
    "\n",
    "using Z3.Linq;\n",
    "using Z3.Linq.Examples;\n",
    "using Z3.Linq.Examples.RiverCrossing;\n",
    "using Z3.Linq.Examples.Sudoku;\n",
    "```\n",
    "Here is a quick Z3.Linq example for reference\n",
    "\n",
    "## Problem 1\n",
    "```\n",
    "Provide a solution where either X is true or Y is true (but not both).\n",
    "```\n",
    "\n",
    "## Solution for Problem 1\n",
    "```csharp\n",
    "using (var ctx = new Z3Context())\n",
    "{\n",
    "    var theorem = from t in ctx.NewTheorem<(bool x, bool y)>()\n",
    "                  where t.x ^ t.y\n",
    "                  select t;\n",
    "\n",
    "    var result = theorem.Solve();\n",
    "\n",
    "    Console.WriteLine(result);\n",
    "}\n",
    "```\n",
    "\n",
    "## Problem 2 - Linear Algebra\n",
    "```\n",
    "Solve the following system with 3 variables, with linear equalities and inequalities.\n",
    "\n",
    "$$\n",
    "x_1 - x_2 \\ge 1\n",
    "\\\\\n",
    "x_1 - x_2 \\le 3\n",
    "\\\\\n",
    "x_1 = 2x_3 + x_2\n",
    "$$\n",
    "```\n",
    "\n",
    "## Solution for Problem 2\n",
    "```csharp\n",
    "using (var ctx = new Z3Context())\n",
    "{\n",
    "    var theorem = from t in ctx.NewTheorem<Symbols<int, int, int>>()\n",
    "                  where t.X1 - t.X2 >= 1\n",
    "                  where t.X1 - t.X2 <= 3\n",
    "                  where t.X1 == (2 * t.X3) + t.X2\n",
    "                  select t;\n",
    "\n",
    "    var result = theorem.Solve();\n",
    "\n",
    "    Console.WriteLine(result);\n",
    "}\n",
    "```\n",
    "\n",
    "# Customer\n",
    "You are helping {{firstName}} to find answers to their questions.\n",
    "Use their name to address them in your responses.\n",
    "\n",
    "# Context\n",
    "Use the following context to provide a more personalized response to {{firstName}}:\n",
    "{{context}}\n",
    "\n",
    "user:\n",
    "{{input}}\n"
   ]
  },
  {
   "cell_type": "code",
   "execution_count": 15,
   "metadata": {
    "dotnet_interactive": {
     "language": "csharp"
    },
    "polyglot_notebook": {
     "kernelName": "csharp"
    },
    "vscode": {
     "languageId": "polyglot-notebook"
    }
   },
   "outputs": [],
   "source": [
    "using Microsoft.SemanticKernel;\n",
    "using Microsoft.SemanticKernel.ChatCompletion;\n",
    "using System.ComponentModel;\n",
    "using Microsoft.DotNet.Interactive.Events;\n",
    "using Microsoft.DotNet.Interactive.Commands;\n",
    "\n",
    "[KernelFunction]\n",
    "[Description(\"Get the weather for a city and state\")]\n",
    "public static Task<string> GetWeather(\n",
    "    [Description(\"The city to get the weather for\")] string city,\n",
    "    [Description(\"The state to get the weather for\")] string state)\n",
    "{\n",
    "    return Task.FromResult($\"The weather in {city}, {state} is 100 degrees\");\n",
    "}\n",
    "\n",
    "[KernelFunction]\n",
    "[Description(\"shut down your computer\")]\n",
    "public async static Task<string> ShutDownPC()\n",
    "{\n",
    "    // System.Diagnostics.Process.Start(\"shutdown\",\"/s /t 0\");\n",
    "\n",
    "    return \"PC has been shut down\";\n",
    "}\n",
    "\n",
    "[KernelFunction]\n",
    "[Description(\"Run Powershell\")]\n",
    "public async static Task<string> Powershell([Description(\"the powershell script to run\")] string pwsh)\n",
    "{\n",
    "    var events = new List<KernelEvent>();\n",
    "    var subscriptions = Microsoft.DotNet.Interactive.Kernel.Current.RootKernel.KernelEvents.Subscribe(e => events.Add(e));\n",
    "    var result = await Microsoft.DotNet.Interactive.Kernel.Root.RunSubmitCodeCommandAsync(pwsh, \"pwsh\");\n",
    "    subscriptions.Dispose();\n",
    "    var displayValues = events.Where(x => x is StandardErrorValueProduced || x is StandardOutputValueProduced || x is ReturnValueProduced || x is DisplayedValueProduced)\n",
    "                        .SelectMany(x => (x as DisplayEvent)!.FormattedValues);\n",
    "\n",
    "    return string.Join(\"\\n\", displayValues.Select(x => x.Value)) ?? \"Nothing to display\";\n",
    "}"
   ]
  },
  {
   "cell_type": "code",
   "execution_count": 40,
   "metadata": {
    "dotnet_interactive": {
     "language": "orchestrator-kernel"
    },
    "polyglot_notebook": {
     "kernelName": "orchestrator-kernel"
    },
    "vscode": {
     "languageId": "polyglot-notebook"
    }
   },
   "outputs": [
    {
     "data": {
      "text/plain": [
       "Sure, Geeno! Here's the C# solution to find the most cost-efficient purchase strategy of crude oil using the Z3.Linq library. The solution uses top-level statements as requested.\n",
       "\n",
       "```csharp\n",
       "// Using statements\n",
       "using System;\n",
       "using System.Diagnostics;\n",
       "using System.Globalization;\n",
       "using Z3.Linq;\n",
       "using Z3.Linq.Examples;\n",
       "using Z3.Linq.Examples.RiverCrossing;\n",
       "using Z3.Linq.Examples.Sudoku;\n",
       "\n",
       "using (var ctx = new Z3Context())\n",
       "{\n",
       "    // Define the problem\n",
       "    var theorem = from t in ctx.NewTheorem<(int sa, int ve)>()\n",
       "                  where t.sa * 0.3 + t.ve * 0.4 >= 1900 // Gasoline requirement\n",
       "                  where t.sa * 0.4 + t.ve * 0.2 >= 1500 // Jet Fuel requirement\n",
       "                  where t.sa * 0.2 + t.ve * 0.3 >= 500  // Lubricant requirement\n",
       "                  where t.sa <= 9000                    // Max order for Saudi Arabia\n",
       "                  where t.ve <= 6000                    // Max order for Venezuela\n",
       "                  where t.sa >= 0                       // Non-negative barrels for Saudi Arabia\n",
       "                  where t.ve >= 0                       // Non-negative barrels for Venezuela\n",
       "                  select t;\n",
       "\n",
       "    // Solve the problem\n",
       "    var result = theorem.Solve(t => t.sa * 20 + t.ve * 15);\n",
       "\n",
       "    // Display the result\n",
       "    if (result != null)\n",
       "    {\n",
       "        Console.WriteLine($\"Order {result.sa} barrels from Saudi Arabia and {result.ve} barrels from Venezuela.\");\n",
       "    }\n",
       "    else\n",
       "    {\n",
       "        Console.WriteLine(\"No solution found.\");\n",
       "    }\n",
       "}\n",
       "```\n",
       "\n",
       "This code sets up and solves the linear programming problem to determine the optimal purchase strategy of crude oil from Saudi Arabia and Venezuela that meets the production requirements at the lowest cost."
      ]
     },
     "metadata": {},
     "output_type": "display_data"
    }
   ],
   "source": [
    "Resolve the problem in the context. Use top-level statement. DOn't use `let` in Linq. When using select t, don't create anonamous class after select"
   ]
  },
  {
   "cell_type": "code",
   "execution_count": 17,
   "metadata": {
    "dotnet_interactive": {
     "language": "orchestrator-kernel"
    },
    "polyglot_notebook": {
     "kernelName": "orchestrator-kernel"
    },
    "vscode": {
     "languageId": "polyglot-notebook"
    }
   },
   "outputs": [],
   "source": [
    "#!set --value @value:linearAlgebra --name context\n"
   ]
  },
  {
   "cell_type": "code",
   "execution_count": 9,
   "metadata": {
    "dotnet_interactive": {
     "language": "orchestrator-kernel"
    },
    "polyglot_notebook": {
     "kernelName": "orchestrator-kernel"
    },
    "vscode": {
     "languageId": "polyglot-notebook"
    }
   },
   "outputs": [],
   "source": [
    "#!set --value @value:shippingCost --name context\n"
   ]
  },
  {
   "cell_type": "code",
   "execution_count": 42,
   "metadata": {
    "vscode": {
     "languageId": "polyglot-notebook"
    }
   },
   "outputs": [
    {
     "ename": "Error",
     "evalue": "(27,9): error CS0019: Operator '!=' cannot be applied to operands of type '(int sa, int ve)' and '<null>'",
     "output_type": "error",
     "traceback": [
      "(27,9): error CS0019: Operator '!=' cannot be applied to operands of type '(int sa, int ve)' and '<null>'"
     ]
    }
   ],
   "source": [
    "// Using statements\n",
    "using System;\n",
    "using System.Diagnostics;\n",
    "using System.Globalization;\n",
    "using Z3.Linq;\n",
    "using Z3.Linq.Examples;\n",
    "using Z3.Linq.Examples.RiverCrossing;\n",
    "using Z3.Linq.Examples.Sudoku;\n",
    "\n",
    "using (var ctx = new Z3Context())\n",
    "{\n",
    "    // Define the problem\n",
    "    var theorem = from t in ctx.NewTheorem<(int sa, int ve)>()\n",
    "                  where t.sa * 0.3 + t.ve * 0.4 >= 1900 // Gasoline requirement\n",
    "                  where t.sa * 0.4 + t.ve * 0.2 >= 1500 // Jet Fuel requirement\n",
    "                  where t.sa * 0.2 + t.ve * 0.3 >= 500  // Lubricant requirement\n",
    "                  where t.sa <= 9000                    // Max order for Saudi Arabia\n",
    "                  where t.ve <= 6000                    // Max order for Venezuela\n",
    "                  where t.sa >= 0                       // Non-negative barrels for Saudi Arabia\n",
    "                  where t.ve >= 0                       // Non-negative barrels for Venezuela\n",
    "                  select t;\n",
    "\n",
    "    // Solve the problem\n",
    "    var result = theorem.Solve();"
   ]
  },
  {
   "cell_type": "code",
   "execution_count": 12,
   "metadata": {
    "vscode": {
     "languageId": "polyglot-notebook"
    }
   },
   "outputs": [],
   "source": [
    "using System;\n",
    "using System.Diagnostics;\n",
    "using System.Globalization;\n",
    "\n",
    "using Z3.Linq;\n",
    "using Z3.Linq.Examples;\n",
    "using Z3.Linq.Examples.RiverCrossing;\n",
    "using Z3.Linq.Examples.Sudoku;"
   ]
  },
  {
   "cell_type": "code",
   "execution_count": 6,
   "metadata": {
    "vscode": {
     "languageId": "polyglot-notebook"
    }
   },
   "outputs": [
    {
     "name": "stdout",
     "output_type": "stream",
     "text": [
      "(True, False)\r\n"
     ]
    }
   ],
   "source": [
    "using (var ctx = new Z3Context())\n",
    "{\n",
    "    var theorem = from t in ctx.NewTheorem<(bool x, bool y)>()\n",
    "                  where t.x ^ t.y\n",
    "                  select t;\n",
    "\n",
    "    var result = theorem.Solve();\n",
    "\n",
    "    Console.WriteLine(result);\n",
    "}"
   ]
  },
  {
   "cell_type": "code",
   "execution_count": 13,
   "metadata": {
    "vscode": {
     "languageId": "polyglot-notebook"
    }
   },
   "outputs": [
    {
     "name": "stdout",
     "output_type": "stream",
     "text": [
      "{X1 = 0, X2 = -2, X3 = 1}\r\n"
     ]
    }
   ],
   "source": [
    "using (var ctx = new Z3Context())\n",
    "{\n",
    "    var theorem = from t in ctx.NewTheorem<Symbols<int, int, int>>()\n",
    "                  where t.X1 - t.X2 >= 1\n",
    "                  where t.X1 - t.X2 <= 3\n",
    "                  where t.X1 == (2 * t.X3) + t.X2\n",
    "                  select t;\n",
    "\n",
    "    var result = theorem.Solve();\n",
    "\n",
    "    Console.WriteLine(result);\n",
    "}"
   ]
  }
 ],
 "metadata": {
  "kernelspec": {
   "display_name": ".NET (C#)",
   "language": "C#",
   "name": ".net-csharp"
  },
  "language_info": {
   "name": "csharp"
  },
  "polyglot_notebook": {
   "kernelInfo": {
    "defaultKernelName": "csharp",
    "items": [
     {
      "aliases": [],
      "name": "csharp"
     },
     {
      "aliases": [],
      "languageName": "prompty",
      "name": "orchestrator-kernel"
     },
     {
      "aliases": [],
      "languageName": "prompty",
      "name": "prompty"
     }
    ]
   }
  }
 },
 "nbformat": 4,
 "nbformat_minor": 2
}
