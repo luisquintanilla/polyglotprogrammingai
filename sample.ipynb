{
 "cells": [
  {
   "cell_type": "markdown",
   "metadata": {},
   "source": [
    "## Basic prompty sample\n",
    "- Chat with prompty\n",
    "- Add weather function\n",
    "- http request using natural language\n",
    "- code interpreter (powershell)"
   ]
  },
  {
   "cell_type": "code",
   "execution_count": null,
   "metadata": {
    "dotnet_interactive": {
     "language": "csharp"
    },
    "polyglot_notebook": {
     "kernelName": "csharp"
    },
    "vscode": {
     "languageId": "polyglot-notebook"
    }
   },
   "outputs": [],
   "source": [
    "#r \"nuget: Microsoft.SemanticKernel, 1.22.0\"\n",
    "#r \"nuget: Microsoft.SemanticKernel.Prompty, 1.22.0-alpha\"\n",
    "#r \"nuget: Microsoft.SemanticKernel.Abstractions, 1.22.0\"\n",
    "\n",
    "#r \"nuget:AutoGen,0.2.1\"\n",
    "#r \"nuget:AutoGen.DotnetInteractive,0.2.1\""
   ]
  },
  {
   "cell_type": "code",
   "execution_count": null,
   "metadata": {
    "dotnet_interactive": {
     "language": "pwsh"
    },
    "polyglot_notebook": {
     "kernelName": "pwsh"
    },
    "vscode": {
     "languageId": "polyglot-notebook"
    }
   },
   "outputs": [],
   "source": [
    "Start-Process pwsh -ArgumentList \"-c dotnet run --project .\\Interactive.Prompty\\WeatherService\\WeatherForecastingService.csproj\""
   ]
  },
  {
   "cell_type": "code",
   "execution_count": null,
   "metadata": {
    "dotnet_interactive": {
     "language": "csharp"
    },
    "polyglot_notebook": {
     "kernelName": "csharp"
    },
    "vscode": {
     "languageId": "polyglot-notebook"
    }
   },
   "outputs": [],
   "source": [
    "#r \"Interactive.Prompty/Interactive.Prompty/bin/Debug/net8.0/Interactive.Prompty.dll\""
   ]
  },
  {
   "cell_type": "code",
   "execution_count": null,
   "metadata": {
    "dotnet_interactive": {
     "language": "csharp"
    },
    "polyglot_notebook": {
     "kernelName": "csharp"
    },
    "vscode": {
     "languageId": "polyglot-notebook"
    }
   },
   "outputs": [],
   "source": [
    "using Microsoft.SemanticKernel;\n",
    "using Microsoft.SemanticKernel.ChatCompletion;\n",
    "using System.ComponentModel;\n",
    "using Microsoft.DotNet.Interactive;\n",
    "using Microsoft.DotNet.Interactive.Events;\n",
    "using Microsoft.DotNet.Interactive.Commands;\n",
    "using SKKernel = Microsoft.SemanticKernel.Kernel;\n",
    "using Kernel = Microsoft.DotNet.Interactive.Kernel;\n",
    "using Interactive.Prompty;\n",
    "using AutoGen.Core;\n",
    "using AutoGen.OpenAI;\n",
    "using AutoGen.OpenAI.Extension;\n",
    "using AutoGen.DotnetInteractive;\n",
    "using AutoGen.DotnetInteractive.Extension;\n",
    "\n",
    "\n",
    "await PromptyExtension.LoadExtensionAsync((CompositeKernel)Microsoft.DotNet.Interactive.Kernel.Root);"
   ]
  },
  {
   "cell_type": "code",
   "execution_count": null,
   "metadata": {
    "dotnet_interactive": {
     "language": "csharp"
    },
    "polyglot_notebook": {
     "kernelName": "csharp"
    },
    "vscode": {
     "languageId": "polyglot-notebook"
    }
   },
   "outputs": [],
   "source": [
    "#!connect prompty --kernel-name prompty"
   ]
  },
  {
   "cell_type": "code",
   "execution_count": null,
   "metadata": {
    "dotnet_interactive": {
     "language": "prompty"
    },
    "polyglot_notebook": {
     "kernelName": "prompty"
    },
    "vscode": {
     "languageId": "polyglot-notebook"
    }
   },
   "outputs": [],
   "source": [
    "---\n",
    "name: ExamplePrompt\n",
    "description: A prompt that uses context to ground an incoming question\n",
    "authors:\n",
    "  - HeHe\n",
    "model:\n",
    "  api: chat\n",
    "sample:\n",
    "  firstName: Geno\n",
    "  context: empty\n",
    "---\n",
    " \n",
    "system:\n",
    "You are an AI assistant who helps people with_anything. As the assistant,\n",
    "you answer questions briefly, succinctly, and in a personable manner using markdown and even add some personal flair with appropriate emojis. You try to resolve customer's question in one-step\n",
    "\n",
    "The following http services are available. You can make request to these services using http request syntax\n",
    "\n",
    "## weather forecast service\n",
    "- base address: http://localhost:5049\n",
    "- swagger\n",
    "```json\n",
    "{\n",
    "    \"openapi\": \"3.0.1\",\n",
    "    \"info\": {\n",
    "        \"title\": \"WeatherForecastingService\",\n",
    "        \"version\": \"1.0\"\n",
    "    },\n",
    "    \"paths\": {\n",
    "        \"/weatherforecast\": {\n",
    "            \"get\": {\n",
    "                \"tags\": [\n",
    "                    \"WeatherForecastingService\"\n",
    "                ],\n",
    "                \"operationId\": \"GetWeatherForecast\",\n",
    "                \"responses\": {\n",
    "                    \"200\": {\n",
    "                        \"description\": \"OK\",\n",
    "                        \"content\": {\n",
    "                            \"application/json\": {\n",
    "                                \"schema\": {\n",
    "                                    \"type\": \"array\",\n",
    "                                    \"items\": {\n",
    "                                        \"$ref\": \"#/components/schemas/WeatherForecast\"\n",
    "                                    }\n",
    "                                }\n",
    "                            }\n",
    "                        }\n",
    "                    }\n",
    "                }\n",
    "            }\n",
    "        }\n",
    "    },\n",
    "    \"components\": {\n",
    "        \"schemas\": {\n",
    "            \"WeatherForecast\": {\n",
    "                \"type\": \"object\",\n",
    "                \"properties\": {\n",
    "                    \"date\": {\n",
    "                        \"type\": \"string\",\n",
    "                        \"format\": \"date\"\n",
    "                    },\n",
    "                    \"temperatureC\": {\n",
    "                        \"type\": \"integer\",\n",
    "                        \"format\": \"int32\"\n",
    "                    },\n",
    "                    \"summary\": {\n",
    "                        \"type\": \"string\",\n",
    "                        \"nullable\": true\n",
    "                    },\n",
    "                    \"temperatureF\": {\n",
    "                        \"type\": \"integer\",\n",
    "                        \"format\": \"int32\",\n",
    "                        \"readOnly\": true\n",
    "                    }\n",
    "                },\n",
    "                \"additionalProperties\": false\n",
    "            }\n",
    "        }\n",
    "    }\n",
    "}\n",
    "```\n",
    " \n",
    "# Context\n",
    "Use the following context to provide a more personalized response to {{firstName}}:\n",
    "{{context}}\n",
    " \n",
    "user:\n",
    "{{input}}"
   ]
  },
  {
   "cell_type": "code",
   "execution_count": null,
   "metadata": {
    "dotnet_interactive": {
     "language": "csharp"
    },
    "polyglot_notebook": {
     "kernelName": "csharp"
    },
    "vscode": {
     "languageId": "polyglot-notebook"
    }
   },
   "outputs": [],
   "source": [
    "#!connect prompty-orchestrator --kernel-name orchestrator-kernel --prompty-kernel-name prompty --azure-openai-endpoint @input:{\"saveAs\":\"azure-openai-endpoint\"} --azure-openai-deployment-name @input:{\"saveAs\":\"azure-openai-deployment-name\"} --azure-openai-apikey @password:{\"saveAs\":\"azure-openai-apikey\"}"
   ]
  },
  {
   "cell_type": "code",
   "execution_count": null,
   "metadata": {
    "dotnet_interactive": {
     "language": "orchestrator-kernel"
    },
    "polyglot_notebook": {
     "kernelName": "orchestrator-kernel"
    },
    "vscode": {
     "languageId": "polyglot-notebook"
    }
   },
   "outputs": [],
   "source": [
    "Who are you helping with"
   ]
  },
  {
   "cell_type": "code",
   "execution_count": null,
   "metadata": {
    "dotnet_interactive": {
     "language": "csharp"
    },
    "polyglot_notebook": {
     "kernelName": "csharp"
    },
    "vscode": {
     "languageId": "polyglot-notebook"
    }
   },
   "outputs": [],
   "source": [
    "[KernelFunction]\n",
    "[Description(\"Run Powershell\")]\n",
    "public async static Task<string> Powershell([Description(\"the powershell script to run\")] string pwsh)\n",
    "{\n",
    "    var pwshKernel = Kernel.Root.FindKernelByName(\"pwsh\");\n",
    "    $\"generated code {pwsh}\".Display();\n",
    "    var command = new SubmitCode(pwsh);\n",
    "    List<KernelEvent> events = new List<KernelEvent>();\n",
    "    var sub = Kernel.Root.KernelEvents.Subscribe(e => events.Add(e));\n",
    "    var result = await pwshKernel.SendAsync(command);   \n",
    "    sub.Dispose();\n",
    "    var displayValues = events\n",
    "                        .OfType<DisplayEvent>()\n",
    "                        .SelectMany(x => x.FormattedValues);\n",
    "\n",
    "    var response =  string.Join(\"\\n\", displayValues.Select(x => x.Value)) ?? \"Nothing to display\";\n",
    "    $\"results : {response}\".Display();\n",
    "    return response;\n",
    "}\n",
    "\n",
    "[KernelFunction]\n",
    "[Description(\"Run http request\")]\n",
    "public async static Task<string> Http([Description(\"the HTTP request to run\")] string http)\n",
    "{\n",
    "    var httpKernel = Kernel.Root.FindKernelByName(\"http\"); \n",
    "    $\"generated code {http}\".Display();\n",
    "    var command = new SubmitCode(http);\n",
    "    List<KernelEvent> events = new List<KernelEvent>();\n",
    "    var sub = Kernel.Root.KernelEvents.Subscribe(e => events.Add(e));\n",
    "    var result = await httpKernel.SendAsync(command);\n",
    "    sub.Dispose();\n",
    "    var displayValues = events\n",
    "                        .OfType<DisplayEvent>()\n",
    "                        .SelectMany(x => x.FormattedValues);\n",
    "\n",
    "    var response = string.Join(\"\\n\", displayValues.Select(x => x.Value)) ?? \"Nothing to display\";\n",
    "    $\"results : {response}\".Display();\n",
    "    return response;\n",
    "}"
   ]
  },
  {
   "cell_type": "code",
   "execution_count": null,
   "metadata": {
    "dotnet_interactive": {
     "language": "orchestrator-kernel"
    },
    "polyglot_notebook": {
     "kernelName": "orchestrator-kernel"
    },
    "vscode": {
     "languageId": "polyglot-notebook"
    }
   },
   "outputs": [],
   "source": [
    "show me the how many files are in current folder using powershell, list their names and their size in bytes"
   ]
  },
  {
   "cell_type": "code",
   "execution_count": null,
   "metadata": {
    "dotnet_interactive": {
     "language": "orchestrator-kernel"
    },
    "polyglot_notebook": {
     "kernelName": "orchestrator-kernel"
    },
    "vscode": {
     "languageId": "polyglot-notebook"
    }
   },
   "outputs": [],
   "source": [
    "use http to create a weather forecasting report for me"
   ]
  }
 ],
 "metadata": {
  "kernelspec": {
   "display_name": ".NET (C#)",
   "language": "C#",
   "name": ".net-csharp"
  },
  "language_info": {
   "name": "csharp"
  },
  "polyglot_notebook": {
   "kernelInfo": {
    "defaultKernelName": "csharp",
    "items": [
     {
      "aliases": [],
      "name": "csharp"
     },
     {
      "aliases": [],
      "languageName": "prompty",
      "name": "orchestrator-kernel"
     },
     {
      "aliases": [],
      "languageName": "prompty",
      "name": "prompty"
     }
    ]
   }
  }
 },
 "nbformat": 4,
 "nbformat_minor": 2
}
