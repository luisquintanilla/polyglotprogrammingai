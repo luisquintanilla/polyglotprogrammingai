{
 "cells": [
  {
   "cell_type": "markdown",
   "metadata": {},
   "source": [
    "## Basic prompty sample\n",
    "- Chat with prompty\n",
    "- Add weather function\n",
    "- http request using natural language\n",
    "- code interpreter (powershell)"
   ]
  },
  {
   "cell_type": "code",
   "execution_count": 1,
   "metadata": {
    "dotnet_interactive": {
     "language": "csharp"
    },
    "polyglot_notebook": {
     "kernelName": "csharp"
    },
    "vscode": {
     "languageId": "polyglot-notebook"
    }
   },
   "outputs": [
    {
     "data": {
      "text/html": [
       "<div><div></div><div></div><div><strong>Installed Packages</strong><ul><li><span>AutoGen, 0.2.1</span></li><li><span>AutoGen.DotnetInteractive, 0.2.1</span></li><li><span>Microsoft.SemanticKernel, 1.22.0</span></li><li><span>Microsoft.SemanticKernel.Abstractions, 1.22.0</span></li><li><span>Microsoft.SemanticKernel.Prompty, 1.22.0-alpha</span></li></ul></div></div>"
      ]
     },
     "metadata": {},
     "output_type": "display_data"
    }
   ],
   "source": [
    "#r \"nuget: Microsoft.SemanticKernel, 1.22.0\"\n",
    "#r \"nuget: Microsoft.SemanticKernel.Prompty, 1.22.0-alpha\"\n",
    "#r \"nuget: Microsoft.SemanticKernel.Abstractions, 1.22.0\"\n",
    "\n",
    "#r \"nuget:AutoGen,0.2.1\"\n",
    "#r \"nuget:AutoGen.DotnetInteractive,0.2.1\""
   ]
  },
  {
   "cell_type": "code",
   "execution_count": 2,
   "metadata": {
    "dotnet_interactive": {
     "language": "csharp"
    },
    "polyglot_notebook": {
     "kernelName": "csharp"
    },
    "vscode": {
     "languageId": "polyglot-notebook"
    }
   },
   "outputs": [],
   "source": [
    "#r \"Interactive.Prompty/Interactive.Prompty/bin/Debug/net8.0/Interactive.Prompty.dll\""
   ]
  },
  {
   "cell_type": "code",
   "execution_count": 13,
   "metadata": {
    "dotnet_interactive": {
     "language": "pwsh"
    },
    "polyglot_notebook": {
     "kernelName": "pwsh"
    },
    "vscode": {
     "languageId": "polyglot-notebook"
    }
   },
   "outputs": [],
   "source": [
    "Start-Process pwsh -ArgumentList \"-c dotnet run --project .\\Interactive.Prompty\\WeatherService\\WeatherForecastingService.csproj\""
   ]
  },
  {
   "cell_type": "code",
   "execution_count": 3,
   "metadata": {
    "dotnet_interactive": {
     "language": "csharp"
    },
    "polyglot_notebook": {
     "kernelName": "csharp"
    },
    "vscode": {
     "languageId": "polyglot-notebook"
    }
   },
   "outputs": [],
   "source": [
    "using Microsoft.DotNet.Interactive;\n",
    "using Interactive.Prompty;\n",
    "using AutoGen.Core;\n",
    "using AutoGen.OpenAI;\n",
    "using AutoGen.OpenAI.Extension;\n",
    "using AutoGen.DotnetInteractive;\n",
    "using AutoGen.DotnetInteractive.Extension;\n",
    "\n",
    "\n",
    "await PromptyExtension.LoadExtensionAsync((CompositeKernel)Microsoft.DotNet.Interactive.Kernel.Root);"
   ]
  },
  {
   "cell_type": "code",
   "execution_count": 4,
   "metadata": {
    "dotnet_interactive": {
     "language": "csharp"
    },
    "polyglot_notebook": {
     "kernelName": "csharp"
    },
    "vscode": {
     "languageId": "polyglot-notebook"
    }
   },
   "outputs": [
    {
     "data": {
      "text/plain": [
       "Kernel added: #!prompty"
      ]
     },
     "metadata": {},
     "output_type": "display_data"
    }
   ],
   "source": [
    "#!connect prompty --kernel-name prompty"
   ]
  },
  {
   "cell_type": "code",
   "execution_count": 5,
   "metadata": {
    "dotnet_interactive": {
     "language": "csharp"
    },
    "polyglot_notebook": {
     "kernelName": "csharp"
    },
    "vscode": {
     "languageId": "polyglot-notebook"
    }
   },
   "outputs": [
    {
     "data": {
      "text/html": [
       "<div><form id=\"3ec23284f99547d89e57bae101f96340\"><div><label for=\"azureOpenaiEndpoint\">Please enter a value for parameter: --azure-openai-endpoint</label><br /><input required type=\"text\" id=\"azureOpenaiEndpoint\" name=\"azureOpenaiEndpoint\" value=\"https://xiaoyun-openai-canada-east.openai.azure.com/\" onkeydown=\"event.stopPropagation()\" /></div><div><label for=\"azureOpenaiDeploymentName\">Please enter a value for parameter: --azure-openai-deployment-name</label><br /><input required type=\"text\" id=\"azureOpenaiDeploymentName\" name=\"azureOpenaiDeploymentName\" value=\"gpt-4o\" onkeydown=\"event.stopPropagation()\" /></div><div><label for=\"azureOpenaiApikey\">Please enter a value for parameter: --azure-openai-apikey</label><br /><input required type=\"password\" id=\"azureOpenaiApikey\" name=\"azureOpenaiApikey\" value=\"53547b13b52046709973aac63084e390\" onkeydown=\"event.stopPropagation()\" /></div><button onclick=\"event.preventDefault(); sendSendValueCommand(document.getElementById(&#39;3ec23284f99547d89e57bae101f96340&#39;));\">Ok</button></form></div>"
      ]
     },
     "metadata": {},
     "output_type": "display_data"
    },
    {
     "data": {
      "text/plain": [
       "Kernel added: #!orchestrator-kernel"
      ]
     },
     "metadata": {},
     "output_type": "display_data"
    }
   ],
   "source": [
    "#!connect prompty-orchestrator --kernel-name orchestrator-kernel --prompty-kernel-name prompty --azure-openai-endpoint @input:{\"saveAs\":\"azure-openai-endpoint\"} --azure-openai-deployment-name @input:{\"saveAs\":\"azure-openai-deployment-name\"} --azure-openai-apikey @password:{\"saveAs\":\"azure-openai-apikey\"}"
   ]
  },
  {
   "cell_type": "code",
   "execution_count": 27,
   "metadata": {
    "dotnet_interactive": {
     "language": "prompty"
    },
    "polyglot_notebook": {
     "kernelName": "prompty"
    },
    "vscode": {
     "languageId": "polyglot-notebook"
    }
   },
   "outputs": [],
   "source": [
    "---\n",
    "name: ExamplePrompt\n",
    "description: A prompt that uses context to ground an incoming question\n",
    "authors:\n",
    "  - HeHe\n",
    "model:\n",
    "  api: chat\n",
    "sample:\n",
    "  firstName: Geno\n",
    "  context: empty\n",
    "---\n",
    " \n",
    "system:\n",
    "You are an AI assistant who helps people with_anything. As the assistant,\n",
    "you answer questions briefly, succinctly, and in a personable manner using markdown and even add some personal flair with appropriate emojis. You try to resolve customer's question in one-step\n",
    "\n",
    "The following http services are available. You can make request to these services using http request syntax\n",
    "\n",
    "## weather forecast service\n",
    "- base address: http://localhost:5049\n",
    "- swagger\n",
    "```json\n",
    "{\n",
    "    \"openapi\": \"3.0.1\",\n",
    "    \"info\": {\n",
    "        \"title\": \"WeatherForecastingService\",\n",
    "        \"version\": \"1.0\"\n",
    "    },\n",
    "    \"paths\": {\n",
    "        \"/weatherforecast\": {\n",
    "            \"get\": {\n",
    "                \"tags\": [\n",
    "                    \"WeatherForecastingService\"\n",
    "                ],\n",
    "                \"operationId\": \"GetWeatherForecast\",\n",
    "                \"responses\": {\n",
    "                    \"200\": {\n",
    "                        \"description\": \"OK\",\n",
    "                        \"content\": {\n",
    "                            \"application/json\": {\n",
    "                                \"schema\": {\n",
    "                                    \"type\": \"array\",\n",
    "                                    \"items\": {\n",
    "                                        \"$ref\": \"#/components/schemas/WeatherForecast\"\n",
    "                                    }\n",
    "                                }\n",
    "                            }\n",
    "                        }\n",
    "                    }\n",
    "                }\n",
    "            }\n",
    "        }\n",
    "    },\n",
    "    \"components\": {\n",
    "        \"schemas\": {\n",
    "            \"WeatherForecast\": {\n",
    "                \"type\": \"object\",\n",
    "                \"properties\": {\n",
    "                    \"date\": {\n",
    "                        \"type\": \"string\",\n",
    "                        \"format\": \"date\"\n",
    "                    },\n",
    "                    \"temperatureC\": {\n",
    "                        \"type\": \"integer\",\n",
    "                        \"format\": \"int32\"\n",
    "                    },\n",
    "                    \"summary\": {\n",
    "                        \"type\": \"string\",\n",
    "                        \"nullable\": true\n",
    "                    },\n",
    "                    \"temperatureF\": {\n",
    "                        \"type\": \"integer\",\n",
    "                        \"format\": \"int32\",\n",
    "                        \"readOnly\": true\n",
    "                    }\n",
    "                },\n",
    "                \"additionalProperties\": false\n",
    "            }\n",
    "        }\n",
    "    }\n",
    "}\n",
    "```\n",
    " \n",
    "# Context\n",
    "Use the following context to provide a more personalized response to {{firstName}}:\n",
    "{{context}}\n",
    " \n",
    "user:\n",
    "{{input}}"
   ]
  },
  {
   "cell_type": "code",
   "execution_count": 7,
   "metadata": {
    "dotnet_interactive": {
     "language": "csharp"
    },
    "polyglot_notebook": {
     "kernelName": "csharp"
    },
    "vscode": {
     "languageId": "polyglot-notebook"
    }
   },
   "outputs": [],
   "source": [
    "using Microsoft.SemanticKernel;\n",
    "using Microsoft.SemanticKernel.ChatCompletion;\n",
    "using System.ComponentModel;\n",
    "using Microsoft.DotNet.Interactive.Events;\n",
    "using Microsoft.DotNet.Interactive.Commands;\n",
    "\n",
    "[KernelFunction]\n",
    "[Description(\"Get the weather for a city and state\")]\n",
    "public static Task<string> GetWeather(\n",
    "    [Description(\"The city to get the weather for\")] string city,\n",
    "    [Description(\"The state to get the weather for\")] string state)\n",
    "{\n",
    "    return Task.FromResult($\"The weather in {city}, {state} is 100 degrees\");\n",
    "}\n",
    "\n",
    "[KernelFunction]\n",
    "[Description(\"shut down your computer\")]\n",
    "public async static Task<string> ShutDownPC()\n",
    "{\n",
    "    // System.Diagnostics.Process.Start(\"shutdown\",\"/s /t 0\");\n",
    "\n",
    "    return \"PC has been shut down\";\n",
    "}\n",
    "\n",
    "[KernelFunction]\n",
    "[Description(\"Run Powershell\")]\n",
    "public async static Task<string> Powershell([Description(\"the powershell script to run\")] string pwsh)\n",
    "{\n",
    "    var events = new List<KernelEvent>();\n",
    "    var subscriptions = Microsoft.DotNet.Interactive.Kernel.Current.RootKernel.KernelEvents.Subscribe(e => events.Add(e));\n",
    "    var result = await Microsoft.DotNet.Interactive.Kernel.Root.RunSubmitCodeCommandAsync(pwsh, \"pwsh\");\n",
    "    subscriptions.Dispose();\n",
    "    var displayValues = events\n",
    "                        .OfType<DisplayEvent>()\n",
    "                        .SelectMany(x => x.FormattedValues);\n",
    "\n",
    "    return string.Join(\"\\n\", displayValues.Select(x => x.Value)) ?? \"Nothing to display\";\n",
    "}\n",
    "\n",
    "[KernelFunction]\n",
    "[Description(\"Run http request\")]\n",
    "public async static Task<string> Http([Description(\"the .http to run\")] string http)\n",
    "{\n",
    "    var events = new List<KernelEvent>();\n",
    "    var subscriptions = Microsoft.DotNet.Interactive.Kernel.Current.RootKernel.KernelEvents.Subscribe(e => events.Add(e));\n",
    "    var result = await Microsoft.DotNet.Interactive.Kernel.Root.RunSubmitCodeCommandAsync(http, \"http\");\n",
    "    subscriptions.Dispose();\n",
    "    var displayValues = events\n",
    "                        .OfType<DisplayEvent>()\n",
    "                        .SelectMany(x => x.FormattedValues);\n",
    "\n",
    "    return string.Join(\"\\n\", displayValues.Select(x => x.Value)) ?? \"Nothing to display\";\n",
    "}"
   ]
  },
  {
   "cell_type": "code",
   "execution_count": 11,
   "metadata": {
    "dotnet_interactive": {
     "language": "orchestrator-kernel"
    },
    "polyglot_notebook": {
     "kernelName": "orchestrator-kernel"
    },
    "vscode": {
     "languageId": "polyglot-notebook"
    }
   },
   "outputs": [
    {
     "data": {
      "text/plain": [
       "I'm helping you, Geno! 😊 How can I assist you today?"
      ]
     },
     "metadata": {},
     "output_type": "display_data"
    }
   ],
   "source": [
    "Who are you helping with"
   ]
  },
  {
   "cell_type": "code",
   "execution_count": 8,
   "metadata": {
    "dotnet_interactive": {
     "language": "orchestrator-kernel"
    },
    "polyglot_notebook": {
     "kernelName": "orchestrator-kernel"
    },
    "vscode": {
     "languageId": "polyglot-notebook"
    }
   },
   "outputs": [
    {
     "data": {
      "text/plain": [
       "☀️ It's currently 100°F in New York, NY! Stay cool and hydrated! 💧"
      ]
     },
     "metadata": {},
     "output_type": "display_data"
    }
   ],
   "source": [
    "Hi, what's the weather in newyork"
   ]
  },
  {
   "cell_type": "code",
   "execution_count": 12,
   "metadata": {
    "dotnet_interactive": {
     "language": "orchestrator-kernel"
    },
    "polyglot_notebook": {
     "kernelName": "orchestrator-kernel"
    },
    "vscode": {
     "languageId": "polyglot-notebook"
    }
   },
   "outputs": [
    {
     "data": {
      "text/plain": [
       "🔍 The current folder has **9 files**. Here are their names:\n",
       "\n",
       "1. .github\n",
       "2. Interactive.Prompty\n",
       "3. .gitignore\n",
       "4. basic.prompty\n",
       "5. NuGet.config\n",
       "6. README.md\n",
       "7. sample.ipynb\n",
       "8. z3.ipynb\n",
       "9. z3.prompty"
      ]
     },
     "metadata": {},
     "output_type": "display_data"
    },
    {
     "name": "stdout",
     "output_type": "stream",
     "text": [
      "9\n",
      ".github\n",
      "Interactive.Prompty\n",
      ".gitignore\n",
      "basic.prompty\n",
      "NuGet.config\n",
      "README.md\n",
      "sample.ipynb\n",
      "z3.ipynb\n",
      "z3.prompty\n"
     ]
    }
   ],
   "source": [
    "show me the how many files are in current folder using powershell, list their names"
   ]
  },
  {
   "cell_type": "code",
   "execution_count": 28,
   "metadata": {
    "dotnet_interactive": {
     "language": "orchestrator-kernel"
    },
    "polyglot_notebook": {
     "kernelName": "orchestrator-kernel"
    },
    "vscode": {
     "languageId": "polyglot-notebook"
    }
   },
   "outputs": [
    {
     "data": {
      "text/plain": [
       "### Weather Forecast Report 🌤️\n",
       "\n",
       "Here's the upcoming weather forecast:\n",
       "\n",
       "1. **Date**: 2024-10-18\n",
       "   - 🌡️ **Temperature**: 28°C (82°F)\n",
       "   - 📜 **Summary**: Chilly\n",
       "\n",
       "2. **Date**: 2024-10-19\n",
       "   - 🌡️ **Temperature**: 43°C (109°F)\n",
       "   - 📜 **Summary**: Cool\n",
       "\n",
       "3. **Date**: 2024-10-20\n",
       "   - 🌡️ **Temperature**: 8°C (46°F)\n",
       "   - 📜 **Summary**: Sweltering\n",
       "\n",
       "4. **Date**: 2024-10-21\n",
       "   - 🌡️ **Temperature**: -19°C (-2°F)\n",
       "   - 📜 **Summary**: Cool\n",
       "\n",
       "5. **Date**: 2024-10-22\n",
       "   - 🌡️ **Temperature**: 29°C (84°F)\n",
       "   - 📜 **Summary**: Freezing\n",
       "\n",
       "Stay prepared and have a great day! 🌞"
      ]
     },
     "metadata": {},
     "output_type": "display_data"
    },
    {
     "data": {
      "text/html": [
       "<div class=\"http-response-message-container\"><style type=\"text/css\">\r\n",
       "            .http-response-message-container {\r\n",
       "                display: flex;\r\n",
       "                flex-wrap: wrap;\r\n",
       "            }\r\n",
       "\r\n",
       "            .http-response-message-container > div {\r\n",
       "                margin: .5em;\r\n",
       "                padding: 1em;\r\n",
       "                border: 1px solid;\r\n",
       "            }\r\n",
       "\r\n",
       "            .http-response-message-container > div > h2 {\r\n",
       "                margin-top: 0;\r\n",
       "            }\r\n",
       "\r\n",
       "            .http-response-message-container > div > h3 {\r\n",
       "                margin-bottom: 0;\r\n",
       "            }\r\n",
       "\r\n",
       "            .http-response-message-container summary {\r\n",
       "                margin: 1em 0;\r\n",
       "                font-size: 1.17em;\r\n",
       "                font-weight: 700;\r\n",
       "            }\r\n",
       "\r\n",
       "            @keyframes blink {\r\n",
       "                0% {\r\n",
       "                  opacity: .2;\r\n",
       "                }\r\n",
       "                20% {\r\n",
       "                  opacity: 1;\r\n",
       "                }\r\n",
       "                100% {\r\n",
       "                  opacity: .2;\r\n",
       "                }\r\n",
       "            }\r\n",
       "\r\n",
       "            .ellipsis span {\r\n",
       "                animation-name: blink;\r\n",
       "                animation-duration: 1.4s;\r\n",
       "                animation-iteration-count: infinite;\r\n",
       "                animation-fill-mode: both;\r\n",
       "            }\r\n",
       "\r\n",
       "            .ellipsis span:nth-child(2) {\r\n",
       "                animation-delay: .2s;\r\n",
       "            }\r\n",
       "\r\n",
       "            .ellipsis span:nth-child(3) {\r\n",
       "                animation-delay: .4s;\r\n",
       "            }</style><div><h2>Request</h2><hr></hr><h3>GET <a href=\"http://localhost:5049/weatherforecast\">http://localhost:5049/weatherforecast</a> HTTP/1.1</h3><details><summary>Headers</summary><table><thead><tr><th>Name</th><th>Value</th></tr></thead><tbody><tr><td>traceparent</td><td>00-ac1bbbe1358c188fa513026f92982219-9eb70ec32acdd994-00</td></tr></tbody></table></details><details><summary>Body (application/json; charset=utf-8, 0 bytes)</summary><pre></pre></details></div><div><h2>Response</h2><hr></hr><h3>HTTP/1.1 200 OK (4.03 ms)</h3><details open=\"True\"><summary>Headers</summary><table><thead><tr><th>Name</th><th>Value</th></tr></thead><tbody><tr><td>Date</td><td>Thu, 17 Oct 2024 07:49:24 GMT</td></tr><tr><td>Server</td><td>Kestrel</td></tr><tr><td>Transfer-Encoding</td><td>chunked</td></tr><tr><td>Content-Type</td><td>application/json; charset=utf-8</td></tr><tr><td>Content-Length</td><td>389</td></tr></tbody></table></details><details open=\"True\"><summary>Body (application/json; charset=utf-8, 389 bytes)</summary><details class=\"dni-treeview\"><summary><span class=\"dni-code-hint\"><code>[{&quot;date&quot;:&quot;2024-10-18&quot;,&quot;temperatureC&quot;:28,&quot;summary&quot;:&quot;Chilly&quot;,&quot;temperatureF&quot;:82},{&quot;date&quot;:&quot;2024-10-19&quot;,&quot;temperatureC&quot;:43,&quot;summary&quot;:&quot;Cool&quot;,&quot;temperatureF&quot;:109},{&quot;date&quot;:&quot;2024-10-20&quot;,&quot;temperatureC&quot;:8,&quot;summary&quot;:&quot;Sweltering&quot;,&quot;temperatureF&quot;:46},{&quot;date&quot;:&quot;2024-10-21&quot;,&quot;temperatureC&quot;:-19,&quot;summary&quot;:&quot;Cool&quot;,&quot;temperatureF&quot;:-2},{&quot;date&quot;:&quot;2024-10-22&quot;,&quot;temperatureC&quot;:29,&quot;summary&quot;:&quot;Freezing&quot;,&quot;temperatureF&quot;:84}]</code></span></summary><div><table><thead><tr></tr></thead><tbody><tr><td><details class=\"dni-treeview\"><summary><span class=\"dni-code-hint\"><code>{&quot;date&quot;:&quot;2024-10-18&quot;,&quot;temperatureC&quot;:28,&quot;summary&quot;:&quot;Chilly&quot;,&quot;temperatureF&quot;:82}</code></span></summary><div><table><thead><tr></tr></thead><tbody><tr><td>date</td><td><span>&quot;2024-10-18&quot;</span></td></tr><tr><td>temperatureC</td><td><span><div class=\"dni-plaintext\"><pre>28</pre></div></span></td></tr><tr><td>summary</td><td><span>&quot;Chilly&quot;</span></td></tr><tr><td>temperatureF</td><td><span><div class=\"dni-plaintext\"><pre>82</pre></div></span></td></tr></tbody></table></div></details></td></tr><tr><td><details class=\"dni-treeview\"><summary><span class=\"dni-code-hint\"><code>{&quot;date&quot;:&quot;2024-10-19&quot;,&quot;temperatureC&quot;:43,&quot;summary&quot;:&quot;Cool&quot;,&quot;temperatureF&quot;:109}</code></span></summary><div><table><thead><tr></tr></thead><tbody><tr><td>date</td><td><span>&quot;2024-10-19&quot;</span></td></tr><tr><td>temperatureC</td><td><span><div class=\"dni-plaintext\"><pre>43</pre></div></span></td></tr><tr><td>summary</td><td><span>&quot;Cool&quot;</span></td></tr><tr><td>temperatureF</td><td><span><div class=\"dni-plaintext\"><pre>109</pre></div></span></td></tr></tbody></table></div></details></td></tr><tr><td><details class=\"dni-treeview\"><summary><span class=\"dni-code-hint\"><code>{&quot;date&quot;:&quot;2024-10-20&quot;,&quot;temperatureC&quot;:8,&quot;summary&quot;:&quot;Sweltering&quot;,&quot;temperatureF&quot;:46}</code></span></summary><div><table><thead><tr></tr></thead><tbody><tr><td>date</td><td><span>&quot;2024-10-20&quot;</span></td></tr><tr><td>temperatureC</td><td><span><div class=\"dni-plaintext\"><pre>8</pre></div></span></td></tr><tr><td>summary</td><td><span>&quot;Sweltering&quot;</span></td></tr><tr><td>temperatureF</td><td><span><div class=\"dni-plaintext\"><pre>46</pre></div></span></td></tr></tbody></table></div></details></td></tr><tr><td><details class=\"dni-treeview\"><summary><span class=\"dni-code-hint\"><code>{&quot;date&quot;:&quot;2024-10-21&quot;,&quot;temperatureC&quot;:-19,&quot;summary&quot;:&quot;Cool&quot;,&quot;temperatureF&quot;:-2}</code></span></summary><div><table><thead><tr></tr></thead><tbody><tr><td>date</td><td><span>&quot;2024-10-21&quot;</span></td></tr><tr><td>temperatureC</td><td><span><div class=\"dni-plaintext\"><pre>-19</pre></div></span></td></tr><tr><td>summary</td><td><span>&quot;Cool&quot;</span></td></tr><tr><td>temperatureF</td><td><span><div class=\"dni-plaintext\"><pre>-2</pre></div></span></td></tr></tbody></table></div></details></td></tr><tr><td><details class=\"dni-treeview\"><summary><span class=\"dni-code-hint\"><code>{&quot;date&quot;:&quot;2024-10-22&quot;,&quot;temperatureC&quot;:29,&quot;summary&quot;:&quot;Freezing&quot;,&quot;temperatureF&quot;:84}</code></span></summary><div><table><thead><tr></tr></thead><tbody><tr><td>date</td><td><span>&quot;2024-10-22&quot;</span></td></tr><tr><td>temperatureC</td><td><span><div class=\"dni-plaintext\"><pre>29</pre></div></span></td></tr><tr><td>summary</td><td><span>&quot;Freezing&quot;</span></td></tr><tr><td>temperatureF</td><td><span><div class=\"dni-plaintext\"><pre>84</pre></div></span></td></tr></tbody></table></div></details></td></tr></tbody></table></div></details></details></div></div><style>\r\n",
       ".dni-code-hint {\r\n",
       "    font-style: italic;\r\n",
       "    overflow: hidden;\r\n",
       "    white-space: nowrap;\r\n",
       "}\r\n",
       ".dni-treeview {\r\n",
       "    white-space: nowrap;\r\n",
       "}\r\n",
       ".dni-treeview td {\r\n",
       "    vertical-align: top;\r\n",
       "    text-align: start;\r\n",
       "}\r\n",
       "details.dni-treeview {\r\n",
       "    padding-left: 1em;\r\n",
       "}\r\n",
       "table td {\r\n",
       "    text-align: start;\r\n",
       "}\r\n",
       "table tr { \r\n",
       "    vertical-align: top; \r\n",
       "    margin: 0em 0px;\r\n",
       "}\r\n",
       "table tr td pre \r\n",
       "{ \r\n",
       "    vertical-align: top !important; \r\n",
       "    margin: 0em 0px !important;\r\n",
       "} \r\n",
       "table th {\r\n",
       "    text-align: start;\r\n",
       "}\r\n",
       "</style>"
      ]
     },
     "metadata": {},
     "output_type": "display_data"
    }
   ],
   "source": [
    "create a weather forecasting report for me"
   ]
  }
 ],
 "metadata": {
  "kernelspec": {
   "display_name": ".NET (C#)",
   "language": "C#",
   "name": ".net-csharp"
  },
  "language_info": {
   "name": "csharp"
  },
  "polyglot_notebook": {
   "kernelInfo": {
    "defaultKernelName": "csharp",
    "items": [
     {
      "aliases": [],
      "name": "csharp"
     },
     {
      "aliases": [],
      "languageName": "prompty",
      "name": "orchestrator-kernel"
     },
     {
      "aliases": [],
      "languageName": "prompty",
      "name": "prompty"
     }
    ]
   }
  }
 },
 "nbformat": 4,
 "nbformat_minor": 2
}
