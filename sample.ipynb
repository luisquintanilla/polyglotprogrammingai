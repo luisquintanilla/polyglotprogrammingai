{
 "cells": [
  {
   "cell_type": "code",
   "execution_count": 1,
   "metadata": {
    "dotnet_interactive": {
     "language": "csharp"
    },
    "polyglot_notebook": {
     "kernelName": "csharp"
    },
    "vscode": {
     "languageId": "polyglot-notebook"
    }
   },
   "outputs": [
    {
     "data": {
      "text/html": [
       "<div><div></div><div></div><div><strong>Installed Packages</strong><ul><li><span>AutoGen, 0.2.1</span></li><li><span>AutoGen.DotnetInteractive, 0.2.1</span></li><li><span>Microsoft.SemanticKernel, 1.22.0</span></li><li><span>Microsoft.SemanticKernel.Abstractions, 1.22.0</span></li><li><span>Microsoft.SemanticKernel.Prompty, 1.22.0-alpha</span></li></ul></div></div>"
      ]
     },
     "metadata": {},
     "output_type": "display_data"
    }
   ],
   "source": [
    "#r \"nuget: Microsoft.SemanticKernel, 1.22.0\"\n",
    "#r \"nuget: Microsoft.SemanticKernel.Prompty, 1.22.0-alpha\"\n",
    "#r \"nuget: Microsoft.SemanticKernel.Abstractions, 1.22.0\"\n",
    "\n",
    "#r \"nuget:AutoGen,0.2.1\"\n",
    "#r \"nuget:AutoGen.DotnetInteractive,0.2.1\""
   ]
  },
  {
   "cell_type": "code",
   "execution_count": 2,
   "metadata": {
    "dotnet_interactive": {
     "language": "csharp"
    },
    "polyglot_notebook": {
     "kernelName": "csharp"
    },
    "vscode": {
     "languageId": "polyglot-notebook"
    }
   },
   "outputs": [],
   "source": [
    "#r \"Interactive.Prompty/Interactive.Prompty/bin/Debug/net8.0/Interactive.Prompty.dll\""
   ]
  },
  {
   "cell_type": "code",
   "execution_count": 3,
   "metadata": {
    "dotnet_interactive": {
     "language": "csharp"
    },
    "polyglot_notebook": {
     "kernelName": "csharp"
    },
    "vscode": {
     "languageId": "polyglot-notebook"
    }
   },
   "outputs": [],
   "source": [
    "using System.Diagnostics;\n",
    "Debugger.Launch();"
   ]
  },
  {
   "cell_type": "code",
   "execution_count": 4,
   "metadata": {
    "dotnet_interactive": {
     "language": "csharp"
    },
    "polyglot_notebook": {
     "kernelName": "csharp"
    },
    "vscode": {
     "languageId": "polyglot-notebook"
    }
   },
   "outputs": [],
   "source": [
    "using Microsoft.DotNet.Interactive;\n",
    "using Interactive.Prompty;\n",
    "using AutoGen.Core;\n",
    "using AutoGen.OpenAI;\n",
    "using AutoGen.OpenAI.Extension;\n",
    "using AutoGen.DotnetInteractive;\n",
    "using AutoGen.DotnetInteractive.Extension;\n",
    "\n",
    "\n",
    "await PromptyExtension.LoadExtensionAsync((CompositeKernel)Microsoft.DotNet.Interactive.Kernel.Root);"
   ]
  },
  {
   "cell_type": "code",
   "execution_count": 5,
   "metadata": {
    "dotnet_interactive": {
     "language": "csharp"
    },
    "polyglot_notebook": {
     "kernelName": "csharp"
    },
    "vscode": {
     "languageId": "polyglot-notebook"
    }
   },
   "outputs": [
    {
     "data": {
      "text/plain": [
       "Kernel added: #!prompty"
      ]
     },
     "metadata": {},
     "output_type": "display_data"
    }
   ],
   "source": [
    "#!connect prompty --kernel-name prompty"
   ]
  },
  {
   "cell_type": "code",
   "execution_count": 6,
   "metadata": {
    "dotnet_interactive": {
     "language": "csharp"
    },
    "polyglot_notebook": {
     "kernelName": "csharp"
    },
    "vscode": {
     "languageId": "polyglot-notebook"
    }
   },
   "outputs": [
    {
     "data": {
      "text/html": [
       "<div><form id=\"bfa4bd27b9824871b54bf8c3c571adaa\"><div><label for=\"azureOpenaiEndpoint\">Please enter a value for parameter: --azure-openai-endpoint</label><br /><input required type=\"text\" id=\"azureOpenaiEndpoint\" name=\"azureOpenaiEndpoint\" value=\"https://dicolomb-ai-eastus.openai.azure.com\" onkeydown=\"event.stopPropagation()\" /></div><div><label for=\"azureOpenaiDeploymentName\">Please enter a value for parameter: --azure-openai-deployment-name</label><br /><input required type=\"text\" id=\"azureOpenaiDeploymentName\" name=\"azureOpenaiDeploymentName\" value=\"gpt-4o-mini\" onkeydown=\"event.stopPropagation()\" /></div><div><label for=\"azureOpenaiApikey\">Please enter a value for parameter: --azure-openai-apikey</label><br /><input required type=\"password\" id=\"azureOpenaiApikey\" name=\"azureOpenaiApikey\" value=\"5e2e6a3eae4b49d0965785b6dc9bc668\" onkeydown=\"event.stopPropagation()\" /></div><button onclick=\"event.preventDefault(); sendSendValueCommand(document.getElementById(&#39;bfa4bd27b9824871b54bf8c3c571adaa&#39;));\">Ok</button></form></div>"
      ]
     },
     "metadata": {},
     "output_type": "display_data"
    },
    {
     "data": {
      "text/plain": [
       "Kernel added: #!orchestrator-kernel"
      ]
     },
     "metadata": {},
     "output_type": "display_data"
    }
   ],
   "source": [
    "#!connect promptyOrchestrator --kernel-name orchestrator-kernel --prompty-kernel-name prompty --azure-openai-endpoint @input:{\"saveAs\":\"azure-openai-endpoint\"} --azure-openai-deployment-name @input:{\"saveAs\":\"azure-openai-deployment-name\"} --azure-openai-apikey @password:{\"saveAs\":\"azure-openai-apikey\"}"
   ]
  },
  {
   "cell_type": "code",
   "execution_count": 7,
   "metadata": {
    "dotnet_interactive": {
     "language": "prompty"
    },
    "polyglot_notebook": {
     "kernelName": "prompty"
    },
    "vscode": {
     "languageId": "polyglot-notebook"
    }
   },
   "outputs": [],
   "source": [
    "---\n",
    "name: ExamplePrompt\n",
    "description: A prompt that uses context to ground an incoming question\n",
    "authors:\n",
    "  - Seth Juarez\n",
    "model:\n",
    "  api: chat\n",
    "sample:\n",
    "  firstName: Geno\n",
    "  context: >\n",
    "    The Alpine Explorer Tent boasts a detachable divider for privacy,\n",
    "    numerous mesh windows and adjustable vents for ventilation, and\n",
    "    a waterproof design. It even has a built-in gear loft for storing\n",
    "    your outdoor essentials. In short, it's a blend of privacy, comfort,\n",
    "    and convenience, making it your second home in the heart of nature!\n",
    "  question: What can you tell me about your tents?\n",
    "---\n",
    " \n",
    "system:\n",
    "You are an AI assistant who helps people with_anything. As the assistant,\n",
    "you answer questions briefly, succinctly, and in a personable manner using\n",
    "markdown and even add some personal flair with appropriate emojis. You try to resolve customer's question in one-step\n",
    " \n",
    "# Customer\n",
    "You are helping {{firstName}} to find answers to their questions.\n",
    "Use their name to address them in your responses.\n",
    " \n",
    "# Context\n",
    "Use the following context to provide a more personalized response to {{firstName}}:\n",
    "{{context}}\n",
    " \n",
    "user:\n",
    "{{input}}"
   ]
  },
  {
   "cell_type": "code",
   "execution_count": 8,
   "metadata": {
    "dotnet_interactive": {
     "language": "csharp"
    },
    "polyglot_notebook": {
     "kernelName": "csharp"
    },
    "vscode": {
     "languageId": "polyglot-notebook"
    }
   },
   "outputs": [],
   "source": [
    "using Microsoft.SemanticKernel;\n",
    "using Microsoft.SemanticKernel.ChatCompletion;\n",
    "using System.ComponentModel;\n",
    "using Microsoft.DotNet.Interactive.Events;\n",
    "using Microsoft.DotNet.Interactive.Commands;\n",
    "\n",
    "[KernelFunction]\n",
    "[Description(\"Get the weather for a city and state\")]\n",
    "public static Task<string> GetWeather(\n",
    "    [Description(\"The city to get the weather for\")] string city,\n",
    "    [Description(\"The state to get the weather for\")] string state)\n",
    "{\n",
    "    return Task.FromResult($\"The weather in {city}, {state} is 100 degrees\");\n",
    "}\n",
    "\n",
    "[KernelFunction]\n",
    "[Description(\"shut down your computer\")]\n",
    "public async static Task<string> ShutDownPC()\n",
    "{\n",
    "    // System.Diagnostics.Process.Start(\"shutdown\",\"/s /t 0\");\n",
    "\n",
    "    return \"PC has been shut down\";\n",
    "}\n",
    "\n",
    "[KernelFunction]\n",
    "[Description(\"Run Powershell\")]\n",
    "public async static Task<string> Powershell([Description(\"the powershell script to run\")] string pwsh)\n",
    "{\n",
    "    var events = new List<KernelEvent>();\n",
    "    var subscriptions = Microsoft.DotNet.Interactive.Kernel.Current.RootKernel.KernelEvents.Subscribe(e => events.Add(e));\n",
    "    var result = await Microsoft.DotNet.Interactive.Kernel.Root.RunSubmitCodeCommandAsync(pwsh, \"pwsh\");\n",
    "    subscriptions.Dispose();\n",
    "    var displayValues = events.Where(x => x is StandardErrorValueProduced || x is StandardOutputValueProduced || x is ReturnValueProduced || x is DisplayedValueProduced)\n",
    "                        .SelectMany(x => (x as DisplayEvent)!.FormattedValues);\n",
    "\n",
    "    return string.Join(\"\\n\", displayValues.Select(x => x.Value)) ?? \"Nothing to display\";\n",
    "}"
   ]
  },
  {
   "cell_type": "code",
   "execution_count": 9,
   "metadata": {
    "dotnet_interactive": {
     "language": "orchestrator-kernel"
    },
    "polyglot_notebook": {
     "kernelName": "orchestrator-kernel"
    },
    "vscode": {
     "languageId": "polyglot-notebook"
    }
   },
   "outputs": [
    {
     "data": {
      "text/plain": [
       "Hey Geno! ☀️ The weather in New York, NY is a sizzling 100°F! Make sure to stay hydrated if you're heading out. Enjoy your day! 🥤🌆"
      ]
     },
     "metadata": {},
     "output_type": "display_data"
    }
   ],
   "source": [
    "Hi, what's the weather in newyork"
   ]
  },
  {
   "cell_type": "code",
   "execution_count": 10,
   "metadata": {
    "dotnet_interactive": {
     "language": "orchestrator-kernel"
    },
    "polyglot_notebook": {
     "kernelName": "orchestrator-kernel"
    },
    "vscode": {
     "languageId": "polyglot-notebook"
    }
   },
   "outputs": [
    {
     "data": {
      "text/plain": [
       "I'm here to help you, Geno! 😊 What do you need assistance with today?"
      ]
     },
     "metadata": {},
     "output_type": "display_data"
    }
   ],
   "source": [
    "Who are you helping with"
   ]
  },
  {
   "cell_type": "code",
   "execution_count": 16,
   "metadata": {
    "dotnet_interactive": {
     "language": "orchestrator-kernel"
    },
    "polyglot_notebook": {
     "kernelName": "orchestrator-kernel"
    },
    "vscode": {
     "languageId": "polyglot-notebook"
    }
   },
   "outputs": [
    {
     "data": {
      "text/plain": [
       "It looks like I can't directly interact with your file system to load images, but I can guide you on how to do it! \n",
       "\n",
       "If you're using a programming language like Python, you could use code like this:\n",
       "\n",
       "```python\n",
       "import os\n",
       "from PIL import Image\n",
       "\n",
       "# Load all images from the specified directory\n",
       "image_folder = \"C:\\\\images\"\n",
       "images = [Image.open(os.path.join(image_folder, file)) for file in os.listdir(image_folder) if file.endswith(('png', 'jpg', 'jpeg', 'gif'))]\n",
       "\n",
       "# Now `images` contains all the loaded image objects\n",
       "```\n",
       "\n",
       "Just make sure you have the Python Imaging Library (Pillow) installed to work with images! If you need help with something specific, let me know! 😊"
      ]
     },
     "metadata": {},
     "output_type": "display_data"
    }
   ],
   "source": [
    "load all images under C:\\images"
   ]
  },
  {
   "cell_type": "code",
   "execution_count": 20,
   "metadata": {
    "dotnet_interactive": {
     "language": "orchestrator-kernel"
    },
    "polyglot_notebook": {
     "kernelName": "orchestrator-kernel"
    },
    "vscode": {
     "languageId": "polyglot-notebook"
    }
   },
   "outputs": [
    {
     "data": {
      "text/plain": [
       "Here are the files in your current folder, Geno:\n",
       "\n",
       "| Name                    |\n",
       "|-------------------------|\n",
       "| Interactive.Prompty     |\n",
       "| .gitignore              |\n",
       "| basic.prompty           |\n",
       "| NuGet.config            |\n",
       "| README.md               |\n",
       "| sample copy.ipynb      |\n",
       "| sample.ipynb           |\n",
       "| ss.py                   |\n",
       "| z3.dib                 |\n",
       "| z3.ipynb               |\n",
       "| z3.prompty             |\n",
       "\n",
       "Let me know if you need further assistance! 😊📂"
      ]
     },
     "metadata": {},
     "output_type": "display_data"
    },
    {
     "name": "stdout",
     "output_type": "stream",
     "text": [
      "\n",
      "\u001b[32;1mName\u001b[0m\n",
      "\u001b[32;1m----\u001b[0m\n",
      "Interactive.Prompty\n",
      ".gitignore\n",
      "basic.prompty\n",
      "NuGet.config\n",
      "README.md\n",
      "sample copy.ipynb\n",
      "sample.ipynb\n",
      "ss.py\n",
      "z3.dib\n",
      "z3.ipynb\n",
      "z3.prompty\n",
      "\n"
     ]
    }
   ],
   "source": [
    "show me the how many files are in current folder using powershell, list their names"
   ]
  },
  {
   "cell_type": "code",
   "execution_count": null,
   "metadata": {
    "vscode": {
     "languageId": "polyglot-notebook"
    }
   },
   "outputs": [],
   "source": []
  }
 ],
 "metadata": {
  "kernelspec": {
   "display_name": ".NET (C#)",
   "language": "C#",
   "name": ".net-csharp"
  },
  "language_info": {
   "name": "csharp"
  },
  "polyglot_notebook": {
   "kernelInfo": {
    "defaultKernelName": "csharp",
    "items": [
     {
      "aliases": [],
      "name": "csharp"
     },
     {
      "aliases": [],
      "languageName": "prompty",
      "name": "orchestrator-kernel"
     },
     {
      "aliases": [],
      "languageName": "prompty",
      "name": "prompty"
     }
    ]
   }
  }
 },
 "nbformat": 4,
 "nbformat_minor": 2
}
