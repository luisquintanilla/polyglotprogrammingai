{
 "cells": [
  {
   "cell_type": "code",
   "execution_count": 1,
   "metadata": {
    "dotnet_interactive": {
     "language": "csharp"
    },
    "polyglot_notebook": {
     "kernelName": "csharp"
    },
    "vscode": {
     "languageId": "polyglot-notebook"
    }
   },
   "outputs": [],
   "source": [
    "#r \"Interactive.Prompty/Interactive.Prompty/bin/Debug/net8.0/Interactive.Prompty.dll\""
   ]
  },
  {
   "cell_type": "code",
   "execution_count": 2,
   "metadata": {
    "dotnet_interactive": {
     "language": "csharp"
    },
    "polyglot_notebook": {
     "kernelName": "csharp"
    },
    "vscode": {
     "languageId": "polyglot-notebook"
    }
   },
   "outputs": [],
   "source": [
    "using System.Diagnostics;\n",
    "Debugger.Launch();"
   ]
  },
  {
   "cell_type": "code",
   "execution_count": 3,
   "metadata": {
    "dotnet_interactive": {
     "language": "csharp"
    },
    "polyglot_notebook": {
     "kernelName": "csharp"
    },
    "vscode": {
     "languageId": "polyglot-notebook"
    }
   },
   "outputs": [],
   "source": [
    "using Microsoft.DotNet.Interactive;\n",
    "using Interactive.Prompty;\n",
    "\n",
    "\n",
    "await PromptyExtension.LoadExtensionAsync((CompositeKernel)Kernel.Root);"
   ]
  },
  {
   "cell_type": "code",
   "execution_count": 4,
   "metadata": {
    "dotnet_interactive": {
     "language": "csharp"
    },
    "polyglot_notebook": {
     "kernelName": "csharp"
    },
    "vscode": {
     "languageId": "polyglot-notebook"
    }
   },
   "outputs": [
    {
     "data": {
      "text/plain": [
       "Kernel added: #!prompty"
      ]
     },
     "metadata": {},
     "output_type": "display_data"
    }
   ],
   "source": [
    "#!connect prompty --kernel-name prompty"
   ]
  },
  {
   "cell_type": "code",
   "execution_count": 5,
   "metadata": {
    "dotnet_interactive": {
     "language": "csharp"
    },
    "polyglot_notebook": {
     "kernelName": "csharp"
    },
    "vscode": {
     "languageId": "polyglot-notebook"
    }
   },
   "outputs": [
    {
     "data": {
      "text/html": [
       "<div><form id=\"fc7446301c41462886aa82aab4c0fb74\"><div><label for=\"azureOpenaiEndpoint\">Please enter a value for parameter: --azure-openai-endpoint</label><br /><input required type=\"text\" id=\"azureOpenaiEndpoint\" name=\"azureOpenaiEndpoint\" value=\"https://dicolomb-ai-eastus.openai.azure.com\" onkeydown=\"event.stopPropagation()\" /></div><div><label for=\"azureOpenaiDeploymentName\">Please enter a value for parameter: --azure-openai-deployment-name</label><br /><input required type=\"text\" id=\"azureOpenaiDeploymentName\" name=\"azureOpenaiDeploymentName\" value=\"gpt-4o-mini\" onkeydown=\"event.stopPropagation()\" /></div><div><label for=\"azureOpenaiApikey\">Please enter a value for parameter: --azure-openai-apikey</label><br /><input required type=\"password\" id=\"azureOpenaiApikey\" name=\"azureOpenaiApikey\" value=\"5e2e6a3eae4b49d0965785b6dc9bc668\" onkeydown=\"event.stopPropagation()\" /></div><button onclick=\"event.preventDefault(); sendSendValueCommand(document.getElementById(&#39;fc7446301c41462886aa82aab4c0fb74&#39;));\">Ok</button></form></div>"
      ]
     },
     "metadata": {},
     "output_type": "display_data"
    },
    {
     "data": {
      "text/plain": [
       "Kernel added: #!orchestrator-kernel"
      ]
     },
     "metadata": {},
     "output_type": "display_data"
    }
   ],
   "source": [
    "#!connect promptyOrchestrator --kernel-name orchestrator-kernel --prompty-kernel-name prompty --azure-openai-endpoint @input:{\"saveAs\":\"azure-openai-endpoint\"} --azure-openai-deployment-name @input:{\"saveAs\":\"azure-openai-deployment-name\"} --azure-openai-apikey @password:{\"saveAs\":\"azure-openai-apikey\"}"
   ]
  },
  {
   "cell_type": "code",
   "execution_count": 6,
   "metadata": {
    "dotnet_interactive": {
     "language": "prompty"
    },
    "polyglot_notebook": {
     "kernelName": "prompty"
    },
    "vscode": {
     "languageId": "polyglot-notebook"
    }
   },
   "outputs": [],
   "source": [
    "---\n",
    "name: ExamplePrompt\n",
    "description: A prompt that uses context to ground an incoming question\n",
    "authors:\n",
    "  - Seth Juarez\n",
    "model:\n",
    "  api: chat\n",
    "sample:\n",
    "  firstName: Gino\n",
    "  context: >\n",
    "    The Alpine Explorer Tent boasts a detachable divider for privacy,\n",
    "    numerous mesh windows and adjustable vents for ventilation, and\n",
    "    a waterproof design. It even has a built-in gear loft for storing\n",
    "    your outdoor essentials. In short, it's a blend of privacy, comfort,\n",
    "    and convenience, making it your second home in the heart of nature!\n",
    "  question: What can you tell me about your tents?\n",
    "---\n",
    " \n",
    "system:\n",
    "You are an AI assistant who helps people find information. As the assistant,\n",
    "you answer questions briefly, succinctly, and in a personable manner using\n",
    "markdown and even add some personal flair with appropriate emojis.\n",
    " \n",
    "# Customer\n",
    "You are helping {{firstName}} to find answers to their questions.\n",
    "Use their name to address them in your responses.\n",
    " \n",
    "# Context\n",
    "Use the following context to provide a more personalized response to {{firstName}}:\n",
    "{{context}}\n",
    " \n",
    "user:\n",
    "{{input}}"
   ]
  },
  {
   "cell_type": "code",
   "execution_count": 7,
   "metadata": {
    "dotnet_interactive": {
     "language": "orchestrator-kernel"
    },
    "polyglot_notebook": {
     "kernelName": "orchestrator-kernel"
    },
    "vscode": {
     "languageId": "polyglot-notebook"
    }
   },
   "outputs": [
    {
     "data": {
      "text/plain": [
       "Hey Gino! 😊 I'm here to help you with any questions you might have. What can I do for you today?"
      ]
     },
     "metadata": {},
     "output_type": "display_data"
    }
   ],
   "source": [
    "who are you helping with. What's my name"
   ]
  }
 ],
 "metadata": {
  "kernelspec": {
   "display_name": ".NET (C#)",
   "language": "C#",
   "name": ".net-csharp"
  },
  "language_info": {
   "name": "csharp"
  },
  "polyglot_notebook": {
   "kernelInfo": {
    "defaultKernelName": "csharp",
    "items": [
     {
      "aliases": [],
      "name": "csharp"
     },
     {
      "aliases": [],
      "languageName": "prompty",
      "name": "orchestrator-kernel"
     },
     {
      "aliases": [],
      "languageName": "prompty",
      "name": "prompty"
     }
    ]
   }
  }
 },
 "nbformat": 4,
 "nbformat_minor": 2
}
